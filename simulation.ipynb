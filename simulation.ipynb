{
 "cells": [
  {
   "cell_type": "code",
   "execution_count": 26,
   "id": "0340d698",
   "metadata": {},
   "outputs": [
    {
     "data": {
      "text/plain": [
       "0.16735"
      ]
     },
     "execution_count": 26,
     "metadata": {},
     "output_type": "execute_result"
    }
   ],
   "source": [
    "import numpy as np\n",
    "import pandas as pd\n",
    "\n",
    "# import viz # curriculum example visualizations\n",
    "\n",
    "trials = 10**5\n",
    "dice = 2\n",
    "\n",
    "rolls = np.random.choice([1, 2, 3, 4, 5, 6], trials * dice).reshape(trials, dice)\n",
    "# print(rolls)\n",
    "# print(len(rolls))\n",
    "\n",
    "rolls_df = pd.DataFrame(rolls)\n",
    "doubles = rolls_df[0] == rolls_df[1]\n",
    "# print(doubles)\n",
    "\n",
    "doubles.mean()"
   ]
  },
  {
   "cell_type": "code",
   "execution_count": 44,
   "id": "370d39b0",
   "metadata": {},
   "outputs": [
    {
     "data": {
      "text/plain": [
       "array([[0, 1, 0, ..., 0, 0, 0],\n",
       "       [0, 1, 0, ..., 1, 1, 1],\n",
       "       [1, 1, 0, ..., 0, 1, 0],\n",
       "       ...,\n",
       "       [0, 0, 1, ..., 1, 0, 1],\n",
       "       [1, 1, 0, ..., 0, 0, 1],\n",
       "       [1, 1, 0, ..., 0, 0, 0]])"
      ]
     },
     "execution_count": 44,
     "metadata": {},
     "output_type": "execute_result"
    }
   ],
   "source": [
    "coin_flips = 10**5\n",
    "coins = 8\n",
    "\n",
    "flips = np.random.choice([0, 1], coin_flips * coins).reshape(coin_flips, coins)\n",
    "flips\n",
    "heads = np.sum(flips,axis=1)\n",
    "heads\n",
    "prob_3_heads = np.sum(heads == 3) / coin_flips\n",
    "prob_3_heads"
   ]
  },
  {
   "cell_type": "code",
   "execution_count": 42,
   "id": "d84d1fa0",
   "metadata": {},
   "outputs": [
    {
     "data": {
      "text/plain": [
       "0.63747"
      ]
     },
     "execution_count": 42,
     "metadata": {},
     "output_type": "execute_result"
    }
   ],
   "source": [
    "prob_more_than_3_heads = np.sum(heads > 3) / coin_flips\n",
    "prob_more_than_3_heads"
   ]
  },
  {
   "cell_type": "code",
   "execution_count": 52,
   "id": "0351e301",
   "metadata": {},
   "outputs": [
    {
     "data": {
      "text/plain": [
       "0.06255"
      ]
     },
     "execution_count": 52,
     "metadata": {},
     "output_type": "execute_result"
    }
   ],
   "source": [
    "simulations = 10**5\n",
    "p_ds = .25\n",
    "billboards = 2\n",
    "\n",
    "data = np.random.random((simulations, billboards))\n",
    "data\n",
    "\n",
    "ds_billboard = data < p_ds \n",
    "ds_billboard\n",
    "\n",
    "(ds_billboard.sum(axis=1) >= 2).mean()\n"
   ]
  },
  {
   "cell_type": "code",
   "execution_count": 63,
   "id": "6ec19026",
   "metadata": {},
   "outputs": [
    {
     "data": {
      "text/plain": [
       "0.61896"
      ]
     },
     "execution_count": 63,
     "metadata": {},
     "output_type": "execute_result"
    }
   ],
   "source": [
    "μ=3\n",
    "σ=1.5\n",
    "trials = 10**5\n",
    "days = 5\n",
    "s=17\n",
    "\n",
    "# assumption: poptart restock occurs prior to beginning of the day\n",
    "# assumption: current stock is out\n",
    "# assumption: poptart purchase is in the afternoon and the mean/standard deviation has already occurred\n",
    "# assumption: restock happens on a regular basis on Mondays and replenished to a stock of 17\n",
    "# therefore looking for probability that stock left is > 1 Friday end of day \n",
    "\n",
    "poptart_sim = np.random.normal(μ,σ,(trials, days))\n",
    "poptart_sim\n",
    "\n",
    "stock_left_on_friday = s - np.sum(poptart_sim, axis=1)\n",
    "stock_left_on_friday\n",
    "\n",
    "np.sum(stock_left_on_friday>1)/trials"
   ]
  },
  {
   "cell_type": "code",
   "execution_count": 73,
   "id": "2ad918fa",
   "metadata": {},
   "outputs": [
    {
     "data": {
      "text/plain": [
       "0.21077"
      ]
     },
     "execution_count": 73,
     "metadata": {},
     "output_type": "execute_result"
    }
   ],
   "source": [
    "μ_mens_height = 178\n",
    "σ_mens_height = 8\n",
    "\n",
    "μ_womens_height = 170\n",
    "σ_womens_height = 6\n",
    "\n",
    "trials = 10**5\n",
    "\n",
    "mens_height_sim = np.random.normal(μ_mens_height, σ_mens_height, trials)\n",
    "mens_height_sim\n",
    "\n",
    "womens_height_sim = np.random.normal(μ_womens_height, σ_womens_height, trials)\n",
    "womens_height_sim\n",
    "\n",
    "(womens_height_sim > mens_height_sim).mean()"
   ]
  },
  {
   "cell_type": "code",
   "execution_count": 86,
   "id": "a17b9f1d",
   "metadata": {},
   "outputs": [
    {
     "name": "stdout",
     "output_type": "stream",
     "text": [
      "prob of 50 students with no issue\n"
     ]
    },
    {
     "data": {
      "text/plain": [
       "0.8185"
      ]
     },
     "execution_count": 86,
     "metadata": {},
     "output_type": "execute_result"
    }
   ],
   "source": [
    "p_corruption = 1/250\n",
    "install_trials = 10**5\n",
    "student_sample = 50\n",
    "\n",
    "data = np.random.random((install_trials, student_sample))\n",
    "data\n",
    "\n",
    "corruption = data < p_corruption\n",
    "corruption \n",
    "print(f'prob of 50 students with no issue')\n",
    "(corruption.sum(axis=1) == 0).mean()"
   ]
  },
  {
   "cell_type": "code",
   "execution_count": 87,
   "id": "654de994",
   "metadata": {},
   "outputs": [
    {
     "name": "stdout",
     "output_type": "stream",
     "text": [
      "prob of 100 students no issue\n"
     ]
    },
    {
     "data": {
      "text/plain": [
       "0.66988"
      ]
     },
     "execution_count": 87,
     "metadata": {},
     "output_type": "execute_result"
    }
   ],
   "source": [
    "p_corruption = 1/250\n",
    "install_trials = 10**5\n",
    "student_sample = 100\n",
    "\n",
    "data = np.random.random((install_trials, student_sample))\n",
    "data\n",
    "\n",
    "corruption = data < p_corruption\n",
    "corruption \n",
    "print(f'prob of 100 students no issue')\n",
    "(corruption.sum(axis=1) == 0).mean()"
   ]
  },
  {
   "cell_type": "code",
   "execution_count": 88,
   "id": "73f2aa1a",
   "metadata": {},
   "outputs": [
    {
     "name": "stdout",
     "output_type": "stream",
     "text": [
      "prob of 150 students and an issue occuring\n"
     ]
    },
    {
     "data": {
      "text/plain": [
       "0.44946"
      ]
     },
     "execution_count": 88,
     "metadata": {},
     "output_type": "execute_result"
    }
   ],
   "source": [
    "p_corruption = 1/250\n",
    "install_trials = 10**5\n",
    "student_sample = 150\n",
    "\n",
    "data = np.random.random((install_trials, student_sample))\n",
    "data\n",
    "\n",
    "corruption = data < p_corruption\n",
    "corruption \n",
    "print(f'prob of 150 students and an issue occuring')\n",
    "(corruption.sum(axis=1) >= 1).mean()"
   ]
  },
  {
   "cell_type": "code",
   "execution_count": 90,
   "id": "0eaa0f61",
   "metadata": {},
   "outputs": [
    {
     "name": "stdout",
     "output_type": "stream",
     "text": [
      "prob of 450 students and no issue occuring\n"
     ]
    },
    {
     "data": {
      "text/plain": [
       "0.16538"
      ]
     },
     "execution_count": 90,
     "metadata": {},
     "output_type": "execute_result"
    }
   ],
   "source": [
    "p_corruption = 1/250\n",
    "install_trials = 10**5\n",
    "student_sample = 450\n",
    "\n",
    "data = np.random.random((install_trials, student_sample))\n",
    "data\n",
    "\n",
    "corruption = data < p_corruption\n",
    "corruption \n",
    "print(f'prob of 450 students and no issue occuring')\n",
    "(corruption.sum(axis=1) == 0).mean()"
   ]
  },
  {
   "cell_type": "code",
   "execution_count": 98,
   "id": "1c341429",
   "metadata": {},
   "outputs": [
    {
     "name": "stdout",
     "output_type": "stream",
     "text": [
      "prob of not seeing a food truck for three consecutive days\n"
     ]
    },
    {
     "data": {
      "text/plain": [
       "0.02737"
      ]
     },
     "execution_count": 98,
     "metadata": {},
     "output_type": "execute_result"
    }
   ],
   "source": [
    "p_food_truck = .7\n",
    "trials = 10**5\n",
    "days = 3\n",
    "data = np.random.random((trials, days))\n",
    "data\n",
    "\n",
    "# assumption: observations began Monday\n",
    "# assumption: today is thursday\n",
    "\n",
    "no_see_food_truck = data > p_food_truck\n",
    "no_see_food_truck\n",
    "print(f'prob of not seeing a food truck for three consecutive days')\n",
    "(no_see_food_truck.sum(axis=1) >= 3).mean()"
   ]
  },
  {
   "cell_type": "code",
   "execution_count": 122,
   "id": "b8d781de",
   "metadata": {},
   "outputs": [
    {
     "name": "stdout",
     "output_type": "stream",
     "text": [
      "prob of seeing a food truck on Thursday or Friday\n"
     ]
    },
    {
     "data": {
      "text/plain": [
       "0.99751"
      ]
     },
     "execution_count": 122,
     "metadata": {},
     "output_type": "execute_result"
    }
   ],
   "source": [
    "p_food_truck = .7\n",
    "trials = 10**5\n",
    "days = 5\n",
    "data = np.random.random((trials, days))\n",
    "data\n",
    "\n",
    "# assumption: observations began Monday\n",
    "# assumption: today is thursday\n",
    "\n",
    "no_food_truck_first_three_days = data[:, :3] > p_food_truck\n",
    "no_food_truck_first_three_days\n",
    "\n",
    "# check against previous answer\n",
    "# (no_food_truck_first_three_days.sum(axis=1)>=3).mean()\n",
    "\n",
    "print(f'prob of seeing a food truck on Thursday or Friday')\n",
    "food_truck_on_thursday_or_friday = data < p_food_truck\n",
    "(food_truck_on_thursday_or_friday.sum(axis=1) >= 1).mean()\n",
    "\n",
    "# # experimenting with conditionality and order\n",
    "# food_truck_on_thursday_or_friday = (data[:, 3:] < p_food_truck)\n",
    "# (food_truck_on_thursday_or_friday.sum(axis=1) >=1).mean()\n",
    "\n",
    "# prob_food_truck_on_thursday_or_friday = (food_truck_on_thursday_or_friday & ~no_food_truck_first_three_days[:, 3:]).mean()\n",
    "# # error: operands could not be broadcast together with shapes (100000, 2) (100000, 0)\n",
    "# prob_food_truck_on_thursday_or_friday\n",
    "\n",
    "\n",
    "\n",
    "\n"
   ]
  },
  {
   "cell_type": "code",
   "execution_count": 155,
   "id": "2da15242",
   "metadata": {},
   "outputs": [
    {
     "data": {
      "text/plain": [
       "0.50754"
      ]
     },
     "execution_count": 155,
     "metadata": {},
     "output_type": "execute_result"
    }
   ],
   "source": [
    "people_in_room = 23\n",
    "trials = 10**5\n",
    "\n",
    "birthdays = np.random.randint(1,366,(trials, people_in_room))\n",
    "bday_df = pd.DataFrame(birthdays)\n",
    "bday_df.head()\n",
    "\n",
    "(bday_df.nunique(axis=1) < people_in_room).mean()\n",
    "\n",
    "# shared_bday = []\n",
    "\n",
    "# for birthday in birthdays:\n",
    "#     unique_birthdays = np.unique(birthday)\n",
    "#     if len(unique_birthdays) < people_in_room:\n",
    "#         shared_bday.append(1)\n",
    "#     else:\n",
    "#         shared_bday.append(0)\n",
    "        \n",
    "        \n",
    "# shared_bday=np.array(shared_bday)\n",
    "# shared_bday.mean()"
   ]
  },
  {
   "cell_type": "code",
   "execution_count": 154,
   "id": "c38c5558",
   "metadata": {},
   "outputs": [
    {
     "data": {
      "text/plain": [
       "0.41081"
      ]
     },
     "execution_count": 154,
     "metadata": {},
     "output_type": "execute_result"
    }
   ],
   "source": [
    "people_in_room = 20\n",
    "trials = 10**5\n",
    "\n",
    "birthdays = np.random.randint(1,366,(trials, people_in_room))\n",
    "bday_df = pd.DataFrame(birthdays)\n",
    "bday_df.head()\n",
    "\n",
    "(bday_df.nunique(axis=1) < people_in_room).mean()\n",
    "\n",
    "# people_in_room = 20\n",
    "# trials = 10**5\n",
    "\n",
    "# birthdays = np.random.randint(1,366,(trials, people_in_room))\n",
    "# birthdays\n",
    "\n",
    "# shared_bday = []\n",
    "\n",
    "# for birthday in birthdays:\n",
    "#     unique_birthdays = np.unique(birthday)\n",
    "#     if len(unique_birthdays) < people_in_room:\n",
    "#         shared_bday.append(1)\n",
    "#     else:\n",
    "#         shared_bday.append(0)\n",
    "        \n",
    "        \n",
    "# shared_bday=np.array(shared_bday)\n",
    "# shared_bday.mean()"
   ]
  },
  {
   "cell_type": "code",
   "execution_count": 153,
   "id": "e2ac3928",
   "metadata": {},
   "outputs": [
    {
     "data": {
      "text/plain": [
       "0.89273"
      ]
     },
     "execution_count": 153,
     "metadata": {},
     "output_type": "execute_result"
    }
   ],
   "source": [
    "people_in_room = 40\n",
    "trials = 10**5\n",
    "\n",
    "birthdays = np.random.randint(1,366,(trials, people_in_room))\n",
    "bday_df = pd.DataFrame(birthdays)\n",
    "bday_df.head()\n",
    "\n",
    "(bday_df.nunique(axis=1) < people_in_room).mean()\n",
    "\n",
    "# people_in_room = 40\n",
    "# trials = 10**5\n",
    "\n",
    "# birthdays = np.random.randint(1,366,(trials, people_in_room))\n",
    "# birthdays\n",
    "\n",
    "# shared_bday = []\n",
    "\n",
    "# for birthday in birthdays:\n",
    "#     unique_birthdays = np.unique(birthday)\n",
    "#     if len(unique_birthdays) < people_in_room:\n",
    "#         shared_bday.append(1)\n",
    "#     else:\n",
    "#         shared_bday.append(0)\n",
    "        \n",
    "        \n",
    "# shared_bday=np.array(shared_bday)\n",
    "# shared_bday.mean()"
   ]
  }
 ],
 "metadata": {
  "kernelspec": {
   "display_name": "Python 3 (ipykernel)",
   "language": "python",
   "name": "python3"
  },
  "language_info": {
   "codemirror_mode": {
    "name": "ipython",
    "version": 3
   },
   "file_extension": ".py",
   "mimetype": "text/x-python",
   "name": "python",
   "nbconvert_exporter": "python",
   "pygments_lexer": "ipython3",
   "version": "3.11.5"
  }
 },
 "nbformat": 4,
 "nbformat_minor": 5
}
