{
 "cells": [
  {
   "cell_type": "code",
   "execution_count": 125,
   "id": "5f1f75de",
   "metadata": {},
   "outputs": [],
   "source": [
    "# standard data imports\n",
    "import pandas as pd\n",
    "import numpy as np\n",
    "import env\n",
    "import matplotlib.pyplot as plt\n",
    "import seaborn as sns\n",
    "import datetime as dt\n",
    "\n",
    "#pulling sample dataset\n",
    "from pydataset import data\n",
    "\n",
    "#new library for stats\n",
    "from scipy import stats"
   ]
  },
  {
   "cell_type": "markdown",
   "id": "0903b295",
   "metadata": {},
   "source": [
    " Use the following contingency table to help answer the question of whether using a Macbook and being a \n",
    " Codeup student are independent of each other.\n",
    " Codeup Student\tNot Codeup Student\n",
    " Uses a Macbook\t49\t20\n",
    " Doesn't Use A Macbook\t1\t30"
   ]
  },
  {
   "cell_type": "code",
   "execution_count": 126,
   "id": "e1145978",
   "metadata": {},
   "outputs": [
    {
     "data": {
      "text/plain": [
       "{'Codeup Student': [49, 1], 'Not a Codeup Student': [20, 30]}"
      ]
     },
     "execution_count": 126,
     "metadata": {},
     "output_type": "execute_result"
    }
   ],
   "source": [
    "# create table columns with dict\n",
    "data_dict = {'Codeup Student': [49,1], 'Not a Codeup Student':[20,30]}\n",
    "data_dict"
   ]
  },
  {
   "cell_type": "code",
   "execution_count": 127,
   "id": "f9fc4ce2",
   "metadata": {},
   "outputs": [
    {
     "data": {
      "text/html": [
       "<div>\n",
       "<style scoped>\n",
       "    .dataframe tbody tr th:only-of-type {\n",
       "        vertical-align: middle;\n",
       "    }\n",
       "\n",
       "    .dataframe tbody tr th {\n",
       "        vertical-align: top;\n",
       "    }\n",
       "\n",
       "    .dataframe thead th {\n",
       "        text-align: right;\n",
       "    }\n",
       "</style>\n",
       "<table border=\"1\" class=\"dataframe\">\n",
       "  <thead>\n",
       "    <tr style=\"text-align: right;\">\n",
       "      <th></th>\n",
       "      <th>Codeup Student</th>\n",
       "      <th>Not a Codeup Student</th>\n",
       "    </tr>\n",
       "  </thead>\n",
       "  <tbody>\n",
       "    <tr>\n",
       "      <th>Uses a Macbook</th>\n",
       "      <td>49</td>\n",
       "      <td>20</td>\n",
       "    </tr>\n",
       "    <tr>\n",
       "      <th>Doesn't Use A Macbook</th>\n",
       "      <td>1</td>\n",
       "      <td>30</td>\n",
       "    </tr>\n",
       "  </tbody>\n",
       "</table>\n",
       "</div>"
      ],
      "text/plain": [
       "                       Codeup Student  Not a Codeup Student\n",
       "Uses a Macbook                     49                    20\n",
       "Doesn't Use A Macbook               1                    30"
      ]
     },
     "execution_count": 127,
     "metadata": {},
     "output_type": "execute_result"
    }
   ],
   "source": [
    "# convert dict to df by indexing rows\n",
    "observed = pd.DataFrame(data_dict, index=['Uses a Macbook','Doesn\\'t Use A Macbook'])\n",
    "observed"
   ]
  },
  {
   "cell_type": "markdown",
   "id": "9791019f",
   "metadata": {},
   "source": [
    "null hyp: there is no relationship btwen codeup student and macbook user\n",
    "hyp: there is a relationship btwn the two"
   ]
  },
  {
   "cell_type": "code",
   "execution_count": 128,
   "id": "9795d793",
   "metadata": {},
   "outputs": [],
   "source": [
    "alpha = .05"
   ]
  },
  {
   "cell_type": "code",
   "execution_count": 129,
   "id": "827b7d76",
   "metadata": {},
   "outputs": [
    {
     "data": {
      "text/plain": [
       "Chi2ContingencyResult(statistic=36.65264142122487, pvalue=1.4116760526193828e-09, dof=1, expected_freq=array([[34.5, 34.5],\n",
       "       [15.5, 15.5]]))"
      ]
     },
     "execution_count": 129,
     "metadata": {},
     "output_type": "execute_result"
    }
   ],
   "source": [
    "stats.chi2_contingency(observed)"
   ]
  },
  {
   "cell_type": "code",
   "execution_count": 130,
   "id": "6b79478c",
   "metadata": {},
   "outputs": [],
   "source": [
    "chi2, p, dof, expected = stats.chi2_contingency(observed)"
   ]
  },
  {
   "cell_type": "code",
   "execution_count": 131,
   "id": "d009da82",
   "metadata": {},
   "outputs": [
    {
     "data": {
      "text/plain": [
       "array([[34.5, 34.5],\n",
       "       [15.5, 15.5]])"
      ]
     },
     "execution_count": 131,
     "metadata": {},
     "output_type": "execute_result"
    }
   ],
   "source": [
    "expected"
   ]
  },
  {
   "cell_type": "code",
   "execution_count": 132,
   "id": "db6a4a7a",
   "metadata": {},
   "outputs": [
    {
     "data": {
      "text/plain": [
       "array([[49, 20],\n",
       "       [ 1, 30]])"
      ]
     },
     "execution_count": 132,
     "metadata": {},
     "output_type": "execute_result"
    }
   ],
   "source": [
    "observed.values"
   ]
  },
  {
   "cell_type": "code",
   "execution_count": 133,
   "id": "a9d0fe33",
   "metadata": {},
   "outputs": [
    {
     "data": {
      "text/plain": [
       "(36.65264142122487, 1)"
      ]
     },
     "execution_count": 133,
     "metadata": {},
     "output_type": "execute_result"
    }
   ],
   "source": [
    "chi2, dof"
   ]
  },
  {
   "cell_type": "code",
   "execution_count": 134,
   "id": "2bc3bd8e",
   "metadata": {},
   "outputs": [
    {
     "data": {
      "text/plain": [
       "1.4116760526193828e-09"
      ]
     },
     "execution_count": 134,
     "metadata": {},
     "output_type": "execute_result"
    }
   ],
   "source": [
    "p\n"
   ]
  },
  {
   "cell_type": "markdown",
   "id": "6c1d63e1",
   "metadata": {},
   "source": [
    " p < null = reject null"
   ]
  },
  {
   "cell_type": "code",
   "execution_count": 135,
   "id": "d2584a43",
   "metadata": {
    "scrolled": true
   },
   "outputs": [
    {
     "data": {
      "text/html": [
       "<div>\n",
       "<style scoped>\n",
       "    .dataframe tbody tr th:only-of-type {\n",
       "        vertical-align: middle;\n",
       "    }\n",
       "\n",
       "    .dataframe tbody tr th {\n",
       "        vertical-align: top;\n",
       "    }\n",
       "\n",
       "    .dataframe thead th {\n",
       "        text-align: right;\n",
       "    }\n",
       "</style>\n",
       "<table border=\"1\" class=\"dataframe\">\n",
       "  <thead>\n",
       "    <tr style=\"text-align: right;\">\n",
       "      <th></th>\n",
       "      <th>manufacturer</th>\n",
       "      <th>model</th>\n",
       "      <th>displ</th>\n",
       "      <th>year</th>\n",
       "      <th>cyl</th>\n",
       "      <th>trans</th>\n",
       "      <th>drv</th>\n",
       "      <th>cty</th>\n",
       "      <th>hwy</th>\n",
       "      <th>fl</th>\n",
       "      <th>class</th>\n",
       "    </tr>\n",
       "  </thead>\n",
       "  <tbody>\n",
       "    <tr>\n",
       "      <th>1</th>\n",
       "      <td>audi</td>\n",
       "      <td>a4</td>\n",
       "      <td>1.8</td>\n",
       "      <td>1999</td>\n",
       "      <td>4</td>\n",
       "      <td>auto(l5)</td>\n",
       "      <td>f</td>\n",
       "      <td>18</td>\n",
       "      <td>29</td>\n",
       "      <td>p</td>\n",
       "      <td>compact</td>\n",
       "    </tr>\n",
       "    <tr>\n",
       "      <th>2</th>\n",
       "      <td>audi</td>\n",
       "      <td>a4</td>\n",
       "      <td>1.8</td>\n",
       "      <td>1999</td>\n",
       "      <td>4</td>\n",
       "      <td>manual(m5)</td>\n",
       "      <td>f</td>\n",
       "      <td>21</td>\n",
       "      <td>29</td>\n",
       "      <td>p</td>\n",
       "      <td>compact</td>\n",
       "    </tr>\n",
       "    <tr>\n",
       "      <th>3</th>\n",
       "      <td>audi</td>\n",
       "      <td>a4</td>\n",
       "      <td>2.0</td>\n",
       "      <td>2008</td>\n",
       "      <td>4</td>\n",
       "      <td>manual(m6)</td>\n",
       "      <td>f</td>\n",
       "      <td>20</td>\n",
       "      <td>31</td>\n",
       "      <td>p</td>\n",
       "      <td>compact</td>\n",
       "    </tr>\n",
       "    <tr>\n",
       "      <th>4</th>\n",
       "      <td>audi</td>\n",
       "      <td>a4</td>\n",
       "      <td>2.0</td>\n",
       "      <td>2008</td>\n",
       "      <td>4</td>\n",
       "      <td>auto(av)</td>\n",
       "      <td>f</td>\n",
       "      <td>21</td>\n",
       "      <td>30</td>\n",
       "      <td>p</td>\n",
       "      <td>compact</td>\n",
       "    </tr>\n",
       "    <tr>\n",
       "      <th>5</th>\n",
       "      <td>audi</td>\n",
       "      <td>a4</td>\n",
       "      <td>2.8</td>\n",
       "      <td>1999</td>\n",
       "      <td>6</td>\n",
       "      <td>auto(l5)</td>\n",
       "      <td>f</td>\n",
       "      <td>16</td>\n",
       "      <td>26</td>\n",
       "      <td>p</td>\n",
       "      <td>compact</td>\n",
       "    </tr>\n",
       "  </tbody>\n",
       "</table>\n",
       "</div>"
      ],
      "text/plain": [
       "  manufacturer model  displ  year  cyl       trans drv  cty  hwy fl    class\n",
       "1         audi    a4    1.8  1999    4    auto(l5)   f   18   29  p  compact\n",
       "2         audi    a4    1.8  1999    4  manual(m5)   f   21   29  p  compact\n",
       "3         audi    a4    2.0  2008    4  manual(m6)   f   20   31  p  compact\n",
       "4         audi    a4    2.0  2008    4    auto(av)   f   21   30  p  compact\n",
       "5         audi    a4    2.8  1999    6    auto(l5)   f   16   26  p  compact"
      ]
     },
     "execution_count": 135,
     "metadata": {},
     "output_type": "execute_result"
    }
   ],
   "source": [
    "df = data('mpg')\n",
    "df.head()"
   ]
  },
  {
   "cell_type": "code",
   "execution_count": 136,
   "id": "74a82449",
   "metadata": {},
   "outputs": [
    {
     "data": {
      "text/plain": [
       "manufacturer    15\n",
       "model           38\n",
       "displ           35\n",
       "year             2\n",
       "cyl              4\n",
       "trans           10\n",
       "drv              3\n",
       "cty             21\n",
       "hwy             27\n",
       "fl               5\n",
       "class            7\n",
       "dtype: int64"
      ]
     },
     "execution_count": 136,
     "metadata": {},
     "output_type": "execute_result"
    }
   ],
   "source": [
    "df.nunique()"
   ]
  },
  {
   "cell_type": "markdown",
   "id": "aa7fa679",
   "metadata": {},
   "source": [
    "Q: Does the class of the car affect how many cylinders it has?\n",
    "\n",
    "$H0$: Car class is independent of number of cylinders.\n",
    "\n",
    "$H1$: Car class is dependent of number of cylinders.\n",
    "\n",
    "alpha = 0.05\n",
    "\n"
   ]
  },
  {
   "cell_type": "code",
   "execution_count": 137,
   "id": "fe83b341",
   "metadata": {},
   "outputs": [
    {
     "data": {
      "text/plain": [
       "cyl\n",
       "4    81\n",
       "6    79\n",
       "8    70\n",
       "5     4\n",
       "Name: count, dtype: int64"
      ]
     },
     "execution_count": 137,
     "metadata": {},
     "output_type": "execute_result"
    }
   ],
   "source": [
    "df.cyl.value_counts()"
   ]
  },
  {
   "cell_type": "code",
   "execution_count": 138,
   "id": "6d135778",
   "metadata": {},
   "outputs": [
    {
     "data": {
      "text/plain": [
       "class\n",
       "suv           62\n",
       "compact       47\n",
       "midsize       41\n",
       "subcompact    35\n",
       "pickup        33\n",
       "minivan       11\n",
       "2seater        5\n",
       "Name: count, dtype: int64"
      ]
     },
     "execution_count": 138,
     "metadata": {},
     "output_type": "execute_result"
    }
   ],
   "source": [
    "df['class'].value_counts()"
   ]
  },
  {
   "cell_type": "code",
   "execution_count": 139,
   "id": "75821f19",
   "metadata": {},
   "outputs": [
    {
     "data": {
      "text/html": [
       "<div>\n",
       "<style scoped>\n",
       "    .dataframe tbody tr th:only-of-type {\n",
       "        vertical-align: middle;\n",
       "    }\n",
       "\n",
       "    .dataframe tbody tr th {\n",
       "        vertical-align: top;\n",
       "    }\n",
       "\n",
       "    .dataframe thead th {\n",
       "        text-align: right;\n",
       "    }\n",
       "</style>\n",
       "<table border=\"1\" class=\"dataframe\">\n",
       "  <thead>\n",
       "    <tr style=\"text-align: right;\">\n",
       "      <th>class</th>\n",
       "      <th>2seater</th>\n",
       "      <th>compact</th>\n",
       "      <th>midsize</th>\n",
       "      <th>minivan</th>\n",
       "      <th>pickup</th>\n",
       "      <th>subcompact</th>\n",
       "      <th>suv</th>\n",
       "    </tr>\n",
       "    <tr>\n",
       "      <th>cyl</th>\n",
       "      <th></th>\n",
       "      <th></th>\n",
       "      <th></th>\n",
       "      <th></th>\n",
       "      <th></th>\n",
       "      <th></th>\n",
       "      <th></th>\n",
       "    </tr>\n",
       "  </thead>\n",
       "  <tbody>\n",
       "    <tr>\n",
       "      <th>4</th>\n",
       "      <td>0</td>\n",
       "      <td>32</td>\n",
       "      <td>16</td>\n",
       "      <td>1</td>\n",
       "      <td>3</td>\n",
       "      <td>21</td>\n",
       "      <td>8</td>\n",
       "    </tr>\n",
       "    <tr>\n",
       "      <th>5</th>\n",
       "      <td>0</td>\n",
       "      <td>2</td>\n",
       "      <td>0</td>\n",
       "      <td>0</td>\n",
       "      <td>0</td>\n",
       "      <td>2</td>\n",
       "      <td>0</td>\n",
       "    </tr>\n",
       "    <tr>\n",
       "      <th>6</th>\n",
       "      <td>0</td>\n",
       "      <td>13</td>\n",
       "      <td>23</td>\n",
       "      <td>10</td>\n",
       "      <td>10</td>\n",
       "      <td>7</td>\n",
       "      <td>16</td>\n",
       "    </tr>\n",
       "    <tr>\n",
       "      <th>8</th>\n",
       "      <td>5</td>\n",
       "      <td>0</td>\n",
       "      <td>2</td>\n",
       "      <td>0</td>\n",
       "      <td>20</td>\n",
       "      <td>5</td>\n",
       "      <td>38</td>\n",
       "    </tr>\n",
       "  </tbody>\n",
       "</table>\n",
       "</div>"
      ],
      "text/plain": [
       "class  2seater  compact  midsize  minivan  pickup  subcompact  suv\n",
       "cyl                                                               \n",
       "4            0       32       16        1       3          21    8\n",
       "5            0        2        0        0       0           2    0\n",
       "6            0       13       23       10      10           7   16\n",
       "8            5        0        2        0      20           5   38"
      ]
     },
     "execution_count": 139,
     "metadata": {},
     "output_type": "execute_result"
    }
   ],
   "source": [
    "# reminder \n",
    "# pd.crosstab(index, columns, values=None, rownames=None, colnames=None, aggfunc=None, margins=False, margins_name='All', dropna=True, normalize=False)\n",
    "observed = pd.crosstab(df.cyl, df['class'])\n",
    "observed"
   ]
  },
  {
   "cell_type": "code",
   "execution_count": 140,
   "id": "93459de6",
   "metadata": {},
   "outputs": [],
   "source": [
    "chi2, p, dof, expected = stats.chi2_contingency(observed)"
   ]
  },
  {
   "cell_type": "code",
   "execution_count": 141,
   "id": "06a4be8b",
   "metadata": {},
   "outputs": [
    {
     "data": {
      "text/plain": [
       "(138.02824375973248, 18)"
      ]
     },
     "execution_count": 141,
     "metadata": {},
     "output_type": "execute_result"
    }
   ],
   "source": [
    "chi2, dof"
   ]
  },
  {
   "cell_type": "code",
   "execution_count": 142,
   "id": "95f122a1",
   "metadata": {},
   "outputs": [
    {
     "data": {
      "text/plain": [
       "1.5351076620141522e-20"
      ]
     },
     "execution_count": 142,
     "metadata": {},
     "output_type": "execute_result"
    }
   ],
   "source": [
    "p"
   ]
  },
  {
   "cell_type": "markdown",
   "id": "9167abfa",
   "metadata": {},
   "source": [
    " reject null P < alpha\n",
    " car class is dependent of cyl"
   ]
  },
  {
   "cell_type": "markdown",
   "id": "a26f5bf5",
   "metadata": {},
   "source": [
    " use employees database\n",
    "Is an employee's gender independent of whether an employee works in sales or marketing? (only look at current employees)\n"
   ]
  },
  {
   "cell_type": "code",
   "execution_count": 150,
   "id": "4eb98eaa",
   "metadata": {},
   "outputs": [],
   "source": [
    "# Pull the tables from the database\n",
    "url= get_db_url(env.user, env.host, env.password, 'employees')\n",
    "\n",
    "query = '''\n",
    "SELECT * FROM employees\n",
    "JOIN dept_emp\n",
    "    USING(emp_no)\n",
    "JOIN departments\n",
    "    USING(dept_no)\n",
    "'''\n",
    "\n",
    "employees = pd.read_sql(query,url)"
   ]
  },
  {
   "cell_type": "code",
   "execution_count": 151,
   "id": "040e36d7",
   "metadata": {},
   "outputs": [
    {
     "data": {
      "text/html": [
       "<div>\n",
       "<style scoped>\n",
       "    .dataframe tbody tr th:only-of-type {\n",
       "        vertical-align: middle;\n",
       "    }\n",
       "\n",
       "    .dataframe tbody tr th {\n",
       "        vertical-align: top;\n",
       "    }\n",
       "\n",
       "    .dataframe thead th {\n",
       "        text-align: right;\n",
       "    }\n",
       "</style>\n",
       "<table border=\"1\" class=\"dataframe\">\n",
       "  <thead>\n",
       "    <tr style=\"text-align: right;\">\n",
       "      <th></th>\n",
       "      <th>Tables_in_employees</th>\n",
       "    </tr>\n",
       "  </thead>\n",
       "  <tbody>\n",
       "    <tr>\n",
       "      <th>0</th>\n",
       "      <td>departments</td>\n",
       "    </tr>\n",
       "    <tr>\n",
       "      <th>1</th>\n",
       "      <td>dept_emp</td>\n",
       "    </tr>\n",
       "    <tr>\n",
       "      <th>2</th>\n",
       "      <td>dept_manager</td>\n",
       "    </tr>\n",
       "    <tr>\n",
       "      <th>3</th>\n",
       "      <td>employees</td>\n",
       "    </tr>\n",
       "    <tr>\n",
       "      <th>4</th>\n",
       "      <td>salaries</td>\n",
       "    </tr>\n",
       "    <tr>\n",
       "      <th>5</th>\n",
       "      <td>titles</td>\n",
       "    </tr>\n",
       "  </tbody>\n",
       "</table>\n",
       "</div>"
      ],
      "text/plain": [
       "  Tables_in_employees\n",
       "0         departments\n",
       "1            dept_emp\n",
       "2        dept_manager\n",
       "3           employees\n",
       "4            salaries\n",
       "5              titles"
      ]
     },
     "execution_count": 151,
     "metadata": {},
     "output_type": "execute_result"
    }
   ],
   "source": [
    "pd.read_sql('show tables', url)\n"
   ]
  },
  {
   "cell_type": "code",
   "execution_count": 152,
   "id": "f3939bc1",
   "metadata": {},
   "outputs": [],
   "source": [
    "query = '''\n",
    "select *\n",
    "from employees as e\n",
    "\tjoin dept_emp as de\n",
    "\t\tusing (emp_no)\n",
    "\tjoin departments as d\n",
    "\t\tusing (dept_no)\n",
    "where to_date > now()\n",
    "\tand dept_name in ('sales','marketing')\n",
    "'''"
   ]
  },
  {
   "cell_type": "code",
   "execution_count": 153,
   "id": "9aff8ea1",
   "metadata": {},
   "outputs": [],
   "source": [
    " emp_df=pd.read_sql(query, url)"
   ]
  },
  {
   "cell_type": "code",
   "execution_count": 154,
   "id": "ec40967f",
   "metadata": {},
   "outputs": [
    {
     "data": {
      "text/html": [
       "<div>\n",
       "<style scoped>\n",
       "    .dataframe tbody tr th:only-of-type {\n",
       "        vertical-align: middle;\n",
       "    }\n",
       "\n",
       "    .dataframe tbody tr th {\n",
       "        vertical-align: top;\n",
       "    }\n",
       "\n",
       "    .dataframe thead th {\n",
       "        text-align: right;\n",
       "    }\n",
       "</style>\n",
       "<table border=\"1\" class=\"dataframe\">\n",
       "  <thead>\n",
       "    <tr style=\"text-align: right;\">\n",
       "      <th></th>\n",
       "      <th>dept_no</th>\n",
       "      <th>emp_no</th>\n",
       "      <th>birth_date</th>\n",
       "      <th>first_name</th>\n",
       "      <th>last_name</th>\n",
       "      <th>gender</th>\n",
       "      <th>hire_date</th>\n",
       "      <th>from_date</th>\n",
       "      <th>to_date</th>\n",
       "      <th>dept_name</th>\n",
       "    </tr>\n",
       "  </thead>\n",
       "  <tbody>\n",
       "    <tr>\n",
       "      <th>0</th>\n",
       "      <td>d001</td>\n",
       "      <td>10017</td>\n",
       "      <td>1958-07-06</td>\n",
       "      <td>Cristinel</td>\n",
       "      <td>Bouloucos</td>\n",
       "      <td>F</td>\n",
       "      <td>1993-08-03</td>\n",
       "      <td>1993-08-03</td>\n",
       "      <td>9999-01-01</td>\n",
       "      <td>Marketing</td>\n",
       "    </tr>\n",
       "    <tr>\n",
       "      <th>1</th>\n",
       "      <td>d001</td>\n",
       "      <td>10058</td>\n",
       "      <td>1954-10-01</td>\n",
       "      <td>Berhard</td>\n",
       "      <td>McFarlin</td>\n",
       "      <td>M</td>\n",
       "      <td>1987-04-13</td>\n",
       "      <td>1988-04-25</td>\n",
       "      <td>9999-01-01</td>\n",
       "      <td>Marketing</td>\n",
       "    </tr>\n",
       "    <tr>\n",
       "      <th>2</th>\n",
       "      <td>d001</td>\n",
       "      <td>10140</td>\n",
       "      <td>1957-03-11</td>\n",
       "      <td>Yucel</td>\n",
       "      <td>Auria</td>\n",
       "      <td>F</td>\n",
       "      <td>1991-03-14</td>\n",
       "      <td>1991-03-14</td>\n",
       "      <td>9999-01-01</td>\n",
       "      <td>Marketing</td>\n",
       "    </tr>\n",
       "    <tr>\n",
       "      <th>3</th>\n",
       "      <td>d001</td>\n",
       "      <td>10228</td>\n",
       "      <td>1953-04-21</td>\n",
       "      <td>Karoline</td>\n",
       "      <td>Cesareni</td>\n",
       "      <td>F</td>\n",
       "      <td>1991-08-26</td>\n",
       "      <td>1993-01-28</td>\n",
       "      <td>9999-01-01</td>\n",
       "      <td>Marketing</td>\n",
       "    </tr>\n",
       "    <tr>\n",
       "      <th>4</th>\n",
       "      <td>d001</td>\n",
       "      <td>10239</td>\n",
       "      <td>1955-03-31</td>\n",
       "      <td>Nikolaos</td>\n",
       "      <td>Llado</td>\n",
       "      <td>F</td>\n",
       "      <td>1995-05-08</td>\n",
       "      <td>1996-05-04</td>\n",
       "      <td>9999-01-01</td>\n",
       "      <td>Marketing</td>\n",
       "    </tr>\n",
       "  </tbody>\n",
       "</table>\n",
       "</div>"
      ],
      "text/plain": [
       "  dept_no  emp_no  birth_date first_name  last_name gender   hire_date  \\\n",
       "0    d001   10017  1958-07-06  Cristinel  Bouloucos      F  1993-08-03   \n",
       "1    d001   10058  1954-10-01    Berhard   McFarlin      M  1987-04-13   \n",
       "2    d001   10140  1957-03-11      Yucel      Auria      F  1991-03-14   \n",
       "3    d001   10228  1953-04-21   Karoline   Cesareni      F  1991-08-26   \n",
       "4    d001   10239  1955-03-31   Nikolaos      Llado      F  1995-05-08   \n",
       "\n",
       "    from_date     to_date  dept_name  \n",
       "0  1993-08-03  9999-01-01  Marketing  \n",
       "1  1988-04-25  9999-01-01  Marketing  \n",
       "2  1991-03-14  9999-01-01  Marketing  \n",
       "3  1993-01-28  9999-01-01  Marketing  \n",
       "4  1996-05-04  9999-01-01  Marketing  "
      ]
     },
     "execution_count": 154,
     "metadata": {},
     "output_type": "execute_result"
    }
   ],
   "source": [
    "emp_df.head()"
   ]
  },
  {
   "cell_type": "markdown",
   "id": "b88c5408",
   "metadata": {},
   "source": [
    "$H_o$ There is no relationship between gender and whether or not an employees works in sales or marketing\n",
    "\n",
    "$H_a$ There is relationship between gender and whether or not an employees works in sales or marketing\n",
    "\n",
    "alpha = .05"
   ]
  },
  {
   "cell_type": "markdown",
   "id": "7e75f8a9",
   "metadata": {},
   "source": [
    "Is an employee's gender independent of whether an employee works in sales or marketing? \n",
    "(only look at current employees)\n"
   ]
  },
  {
   "cell_type": "code",
   "execution_count": 155,
   "id": "0368193a",
   "metadata": {
    "scrolled": true
   },
   "outputs": [
    {
     "data": {
      "text/plain": [
       "gender\n",
       "M    31680\n",
       "F    20863\n",
       "Name: count, dtype: int64"
      ]
     },
     "execution_count": 155,
     "metadata": {},
     "output_type": "execute_result"
    }
   ],
   "source": [
    "emp_df.gender.value_counts()"
   ]
  },
  {
   "cell_type": "code",
   "execution_count": 156,
   "id": "573160e4",
   "metadata": {},
   "outputs": [
    {
     "data": {
      "text/plain": [
       "dept_name\n",
       "Sales        37701\n",
       "Marketing    14842\n",
       "Name: count, dtype: int64"
      ]
     },
     "execution_count": 156,
     "metadata": {},
     "output_type": "execute_result"
    }
   ],
   "source": [
    "emp_df.dept_name.value_counts()"
   ]
  },
  {
   "cell_type": "code",
   "execution_count": 157,
   "id": "0f256ac1",
   "metadata": {},
   "outputs": [
    {
     "data": {
      "text/html": [
       "<div>\n",
       "<style scoped>\n",
       "    .dataframe tbody tr th:only-of-type {\n",
       "        vertical-align: middle;\n",
       "    }\n",
       "\n",
       "    .dataframe tbody tr th {\n",
       "        vertical-align: top;\n",
       "    }\n",
       "\n",
       "    .dataframe thead th {\n",
       "        text-align: right;\n",
       "    }\n",
       "</style>\n",
       "<table border=\"1\" class=\"dataframe\">\n",
       "  <thead>\n",
       "    <tr style=\"text-align: right;\">\n",
       "      <th>dept_name</th>\n",
       "      <th>Marketing</th>\n",
       "      <th>Sales</th>\n",
       "    </tr>\n",
       "    <tr>\n",
       "      <th>gender</th>\n",
       "      <th></th>\n",
       "      <th></th>\n",
       "    </tr>\n",
       "  </thead>\n",
       "  <tbody>\n",
       "    <tr>\n",
       "      <th>F</th>\n",
       "      <td>5864</td>\n",
       "      <td>14999</td>\n",
       "    </tr>\n",
       "    <tr>\n",
       "      <th>M</th>\n",
       "      <td>8978</td>\n",
       "      <td>22702</td>\n",
       "    </tr>\n",
       "  </tbody>\n",
       "</table>\n",
       "</div>"
      ],
      "text/plain": [
       "dept_name  Marketing  Sales\n",
       "gender                     \n",
       "F               5864  14999\n",
       "M               8978  22702"
      ]
     },
     "execution_count": 157,
     "metadata": {},
     "output_type": "execute_result"
    }
   ],
   "source": [
    "observed = pd.crosstab(emp_df.gender,emp_df.dept_name)\n",
    "observed"
   ]
  },
  {
   "cell_type": "code",
   "execution_count": 158,
   "id": "e5b24926",
   "metadata": {},
   "outputs": [],
   "source": [
    "chi2, p, dof, expected = stats.chi2_contingency(observed)\n"
   ]
  },
  {
   "cell_type": "code",
   "execution_count": 159,
   "id": "06617746",
   "metadata": {},
   "outputs": [
    {
     "data": {
      "text/plain": [
       "(0.3240332004060638, 1)"
      ]
     },
     "execution_count": 159,
     "metadata": {},
     "output_type": "execute_result"
    }
   ],
   "source": [
    "chi2, dof"
   ]
  },
  {
   "cell_type": "code",
   "execution_count": 160,
   "id": "cac3cf23",
   "metadata": {},
   "outputs": [
    {
     "data": {
      "text/plain": [
       "0.5691938610810126"
      ]
     },
     "execution_count": 160,
     "metadata": {},
     "output_type": "execute_result"
    }
   ],
   "source": [
    "p"
   ]
  },
  {
   "cell_type": "code",
   "execution_count": 174,
   "id": "7faa631e",
   "metadata": {},
   "outputs": [
    {
     "name": "stdout",
     "output_type": "stream",
     "text": [
      "We fail to reject the null hypothesis\n",
      "outcome is there is no relationship between gender & S&M\n"
     ]
    }
   ],
   "source": [
    "if p < alpha:\n",
    "    print('We reject the null hypothesis')\n",
    "else:\n",
    "    print('We fail to reject the null hypothesis')\n",
    "    print('outcome is there is no relationship between gender & S&M')"
   ]
  },
  {
   "cell_type": "markdown",
   "id": "6a5c1514",
   "metadata": {},
   "source": [
    "Is an employee's gender independent of whether or not they are or have been a manager?"
   ]
  },
  {
   "cell_type": "code",
   "execution_count": 175,
   "id": "b19ee41f",
   "metadata": {},
   "outputs": [],
   "source": [
    "query = '''select *\n",
    "from dept_manager\n",
    "\tright join employees\n",
    "\t\tusing (emp_no)'''"
   ]
  },
  {
   "cell_type": "code",
   "execution_count": 176,
   "id": "25e1d456",
   "metadata": {},
   "outputs": [],
   "source": [
    "dm_df = pd.read_sql(query, url)"
   ]
  },
  {
   "cell_type": "code",
   "execution_count": 177,
   "id": "c12d5d05",
   "metadata": {},
   "outputs": [
    {
     "data": {
      "text/html": [
       "<div>\n",
       "<style scoped>\n",
       "    .dataframe tbody tr th:only-of-type {\n",
       "        vertical-align: middle;\n",
       "    }\n",
       "\n",
       "    .dataframe tbody tr th {\n",
       "        vertical-align: top;\n",
       "    }\n",
       "\n",
       "    .dataframe thead th {\n",
       "        text-align: right;\n",
       "    }\n",
       "</style>\n",
       "<table border=\"1\" class=\"dataframe\">\n",
       "  <thead>\n",
       "    <tr style=\"text-align: right;\">\n",
       "      <th></th>\n",
       "      <th>emp_no</th>\n",
       "      <th>birth_date</th>\n",
       "      <th>first_name</th>\n",
       "      <th>last_name</th>\n",
       "      <th>gender</th>\n",
       "      <th>hire_date</th>\n",
       "      <th>dept_no</th>\n",
       "      <th>from_date</th>\n",
       "      <th>to_date</th>\n",
       "    </tr>\n",
       "  </thead>\n",
       "  <tbody>\n",
       "    <tr>\n",
       "      <th>0</th>\n",
       "      <td>10001</td>\n",
       "      <td>1953-09-02</td>\n",
       "      <td>Georgi</td>\n",
       "      <td>Facello</td>\n",
       "      <td>M</td>\n",
       "      <td>1986-06-26</td>\n",
       "      <td>None</td>\n",
       "      <td>None</td>\n",
       "      <td>None</td>\n",
       "    </tr>\n",
       "    <tr>\n",
       "      <th>1</th>\n",
       "      <td>10002</td>\n",
       "      <td>1964-06-02</td>\n",
       "      <td>Bezalel</td>\n",
       "      <td>Simmel</td>\n",
       "      <td>F</td>\n",
       "      <td>1985-11-21</td>\n",
       "      <td>None</td>\n",
       "      <td>None</td>\n",
       "      <td>None</td>\n",
       "    </tr>\n",
       "    <tr>\n",
       "      <th>2</th>\n",
       "      <td>10003</td>\n",
       "      <td>1959-12-03</td>\n",
       "      <td>Parto</td>\n",
       "      <td>Bamford</td>\n",
       "      <td>M</td>\n",
       "      <td>1986-08-28</td>\n",
       "      <td>None</td>\n",
       "      <td>None</td>\n",
       "      <td>None</td>\n",
       "    </tr>\n",
       "    <tr>\n",
       "      <th>3</th>\n",
       "      <td>10004</td>\n",
       "      <td>1954-05-01</td>\n",
       "      <td>Chirstian</td>\n",
       "      <td>Koblick</td>\n",
       "      <td>M</td>\n",
       "      <td>1986-12-01</td>\n",
       "      <td>None</td>\n",
       "      <td>None</td>\n",
       "      <td>None</td>\n",
       "    </tr>\n",
       "    <tr>\n",
       "      <th>4</th>\n",
       "      <td>10005</td>\n",
       "      <td>1955-01-21</td>\n",
       "      <td>Kyoichi</td>\n",
       "      <td>Maliniak</td>\n",
       "      <td>M</td>\n",
       "      <td>1989-09-12</td>\n",
       "      <td>None</td>\n",
       "      <td>None</td>\n",
       "      <td>None</td>\n",
       "    </tr>\n",
       "  </tbody>\n",
       "</table>\n",
       "</div>"
      ],
      "text/plain": [
       "   emp_no  birth_date first_name last_name gender   hire_date dept_no  \\\n",
       "0   10001  1953-09-02     Georgi   Facello      M  1986-06-26    None   \n",
       "1   10002  1964-06-02    Bezalel    Simmel      F  1985-11-21    None   \n",
       "2   10003  1959-12-03      Parto   Bamford      M  1986-08-28    None   \n",
       "3   10004  1954-05-01  Chirstian   Koblick      M  1986-12-01    None   \n",
       "4   10005  1955-01-21    Kyoichi  Maliniak      M  1989-09-12    None   \n",
       "\n",
       "  from_date to_date  \n",
       "0      None    None  \n",
       "1      None    None  \n",
       "2      None    None  \n",
       "3      None    None  \n",
       "4      None    None  "
      ]
     },
     "execution_count": 177,
     "metadata": {},
     "output_type": "execute_result"
    }
   ],
   "source": [
    "dm_df.head()"
   ]
  },
  {
   "cell_type": "code",
   "execution_count": 178,
   "id": "57233290",
   "metadata": {},
   "outputs": [
    {
     "data": {
      "text/plain": [
       "gender\n",
       "M    179973\n",
       "F    120051\n",
       "Name: count, dtype: int64"
      ]
     },
     "execution_count": 178,
     "metadata": {},
     "output_type": "execute_result"
    }
   ],
   "source": [
    "dm_df.gender.value_counts()"
   ]
  },
  {
   "cell_type": "code",
   "execution_count": 179,
   "id": "ab46184f",
   "metadata": {
    "scrolled": true
   },
   "outputs": [
    {
     "data": {
      "text/plain": [
       "to_date\n",
       "None          300000\n",
       "9999-01-01         9\n",
       "1989-05-06         1\n",
       "1992-09-08         1\n",
       "1988-10-17         1\n",
       "1991-04-08         1\n",
       "1991-03-07         1\n",
       "1994-06-28         1\n",
       "1991-09-12         1\n",
       "1992-04-25         1\n",
       "1991-10-01         1\n",
       "1996-08-30         1\n",
       "1992-08-02         1\n",
       "1988-09-09         1\n",
       "1992-03-21         1\n",
       "1989-12-17         1\n",
       "1996-01-03         1\n",
       "Name: count, dtype: int64"
      ]
     },
     "execution_count": 179,
     "metadata": {},
     "output_type": "execute_result"
    }
   ],
   "source": [
    "dm_df.to_date.value_counts(dropna=False)"
   ]
  },
  {
   "cell_type": "code",
   "execution_count": 180,
   "id": "32ed272d",
   "metadata": {},
   "outputs": [],
   "source": [
    "dm_df['is_manager'] = dm_df.to_date.notnull()"
   ]
  },
  {
   "cell_type": "code",
   "execution_count": 181,
   "id": "6661ae95",
   "metadata": {},
   "outputs": [
    {
     "data": {
      "text/html": [
       "<div>\n",
       "<style scoped>\n",
       "    .dataframe tbody tr th:only-of-type {\n",
       "        vertical-align: middle;\n",
       "    }\n",
       "\n",
       "    .dataframe tbody tr th {\n",
       "        vertical-align: top;\n",
       "    }\n",
       "\n",
       "    .dataframe thead th {\n",
       "        text-align: right;\n",
       "    }\n",
       "</style>\n",
       "<table border=\"1\" class=\"dataframe\">\n",
       "  <thead>\n",
       "    <tr style=\"text-align: right;\">\n",
       "      <th></th>\n",
       "      <th>emp_no</th>\n",
       "      <th>birth_date</th>\n",
       "      <th>first_name</th>\n",
       "      <th>last_name</th>\n",
       "      <th>gender</th>\n",
       "      <th>hire_date</th>\n",
       "      <th>dept_no</th>\n",
       "      <th>from_date</th>\n",
       "      <th>to_date</th>\n",
       "      <th>is_manager</th>\n",
       "    </tr>\n",
       "  </thead>\n",
       "  <tbody>\n",
       "    <tr>\n",
       "      <th>0</th>\n",
       "      <td>10001</td>\n",
       "      <td>1953-09-02</td>\n",
       "      <td>Georgi</td>\n",
       "      <td>Facello</td>\n",
       "      <td>M</td>\n",
       "      <td>1986-06-26</td>\n",
       "      <td>None</td>\n",
       "      <td>None</td>\n",
       "      <td>None</td>\n",
       "      <td>False</td>\n",
       "    </tr>\n",
       "    <tr>\n",
       "      <th>1</th>\n",
       "      <td>10002</td>\n",
       "      <td>1964-06-02</td>\n",
       "      <td>Bezalel</td>\n",
       "      <td>Simmel</td>\n",
       "      <td>F</td>\n",
       "      <td>1985-11-21</td>\n",
       "      <td>None</td>\n",
       "      <td>None</td>\n",
       "      <td>None</td>\n",
       "      <td>False</td>\n",
       "    </tr>\n",
       "    <tr>\n",
       "      <th>2</th>\n",
       "      <td>10003</td>\n",
       "      <td>1959-12-03</td>\n",
       "      <td>Parto</td>\n",
       "      <td>Bamford</td>\n",
       "      <td>M</td>\n",
       "      <td>1986-08-28</td>\n",
       "      <td>None</td>\n",
       "      <td>None</td>\n",
       "      <td>None</td>\n",
       "      <td>False</td>\n",
       "    </tr>\n",
       "    <tr>\n",
       "      <th>3</th>\n",
       "      <td>10004</td>\n",
       "      <td>1954-05-01</td>\n",
       "      <td>Chirstian</td>\n",
       "      <td>Koblick</td>\n",
       "      <td>M</td>\n",
       "      <td>1986-12-01</td>\n",
       "      <td>None</td>\n",
       "      <td>None</td>\n",
       "      <td>None</td>\n",
       "      <td>False</td>\n",
       "    </tr>\n",
       "    <tr>\n",
       "      <th>4</th>\n",
       "      <td>10005</td>\n",
       "      <td>1955-01-21</td>\n",
       "      <td>Kyoichi</td>\n",
       "      <td>Maliniak</td>\n",
       "      <td>M</td>\n",
       "      <td>1989-09-12</td>\n",
       "      <td>None</td>\n",
       "      <td>None</td>\n",
       "      <td>None</td>\n",
       "      <td>False</td>\n",
       "    </tr>\n",
       "  </tbody>\n",
       "</table>\n",
       "</div>"
      ],
      "text/plain": [
       "   emp_no  birth_date first_name last_name gender   hire_date dept_no  \\\n",
       "0   10001  1953-09-02     Georgi   Facello      M  1986-06-26    None   \n",
       "1   10002  1964-06-02    Bezalel    Simmel      F  1985-11-21    None   \n",
       "2   10003  1959-12-03      Parto   Bamford      M  1986-08-28    None   \n",
       "3   10004  1954-05-01  Chirstian   Koblick      M  1986-12-01    None   \n",
       "4   10005  1955-01-21    Kyoichi  Maliniak      M  1989-09-12    None   \n",
       "\n",
       "  from_date to_date  is_manager  \n",
       "0      None    None       False  \n",
       "1      None    None       False  \n",
       "2      None    None       False  \n",
       "3      None    None       False  \n",
       "4      None    None       False  "
      ]
     },
     "execution_count": 181,
     "metadata": {},
     "output_type": "execute_result"
    }
   ],
   "source": [
    "dm_df.head()"
   ]
  },
  {
   "cell_type": "code",
   "execution_count": 183,
   "id": "5ddd32d1",
   "metadata": {},
   "outputs": [
    {
     "data": {
      "text/plain": [
       "is_manager\n",
       "False    300000\n",
       "True         24\n",
       "Name: count, dtype: int64"
      ]
     },
     "execution_count": 183,
     "metadata": {},
     "output_type": "execute_result"
    }
   ],
   "source": [
    "dm_df.is_manager.value_counts()"
   ]
  },
  {
   "cell_type": "markdown",
   "id": "59e3ad9e",
   "metadata": {},
   "source": [
    "$H_o$: there is no relationship\n",
    "\n",
    "$H_a$: there is a relationship\n",
    "\n"
   ]
  },
  {
   "cell_type": "code",
   "execution_count": 184,
   "id": "fcd80762",
   "metadata": {},
   "outputs": [],
   "source": [
    "α=.05"
   ]
  },
  {
   "cell_type": "code",
   "execution_count": 186,
   "id": "b6f2c17c",
   "metadata": {},
   "outputs": [
    {
     "data": {
      "text/html": [
       "<div>\n",
       "<style scoped>\n",
       "    .dataframe tbody tr th:only-of-type {\n",
       "        vertical-align: middle;\n",
       "    }\n",
       "\n",
       "    .dataframe tbody tr th {\n",
       "        vertical-align: top;\n",
       "    }\n",
       "\n",
       "    .dataframe thead th {\n",
       "        text-align: right;\n",
       "    }\n",
       "</style>\n",
       "<table border=\"1\" class=\"dataframe\">\n",
       "  <thead>\n",
       "    <tr style=\"text-align: right;\">\n",
       "      <th>gender</th>\n",
       "      <th>F</th>\n",
       "      <th>M</th>\n",
       "    </tr>\n",
       "    <tr>\n",
       "      <th>is_manager</th>\n",
       "      <th></th>\n",
       "      <th></th>\n",
       "    </tr>\n",
       "  </thead>\n",
       "  <tbody>\n",
       "    <tr>\n",
       "      <th>False</th>\n",
       "      <td>120038</td>\n",
       "      <td>179962</td>\n",
       "    </tr>\n",
       "    <tr>\n",
       "      <th>True</th>\n",
       "      <td>13</td>\n",
       "      <td>11</td>\n",
       "    </tr>\n",
       "  </tbody>\n",
       "</table>\n",
       "</div>"
      ],
      "text/plain": [
       "gender           F       M\n",
       "is_manager                \n",
       "False       120038  179962\n",
       "True            13      11"
      ]
     },
     "execution_count": 186,
     "metadata": {},
     "output_type": "execute_result"
    }
   ],
   "source": [
    "observed = pd.crosstab(dm_df.is_manager, dm_df.gender)\n",
    "observed"
   ]
  },
  {
   "cell_type": "code",
   "execution_count": 187,
   "id": "c94ee186",
   "metadata": {},
   "outputs": [],
   "source": [
    "chi2,p,dof,expected = stats.chi2_contingency(observed)"
   ]
  },
  {
   "cell_type": "code",
   "execution_count": 188,
   "id": "c4c412dd",
   "metadata": {},
   "outputs": [
    {
     "name": "stdout",
     "output_type": "stream",
     "text": [
      "We fail to reject the null hypothesis\n"
     ]
    }
   ],
   "source": [
    "if p < alpha:\n",
    "    print('We reject the null hypothesis')\n",
    "else:\n",
    "    print('We fail to reject the null hypothesis')"
   ]
  },
  {
   "cell_type": "markdown",
   "id": "de644905",
   "metadata": {},
   "source": [
    " Is there a relationship between the length of your arm and the length of your foot?"
   ]
  },
  {
   "cell_type": "markdown",
   "id": "277536bc",
   "metadata": {},
   "source": [
    "Lengths of arms and feet are continuous variables, so correlation test"
   ]
  },
  {
   "cell_type": "markdown",
   "id": "40a1f2a2",
   "metadata": {},
   "source": [
    "Does smoking affect when or not someone has lung cancer?"
   ]
  },
  {
   "cell_type": "markdown",
   "id": "945aa4d5",
   "metadata": {},
   "source": [
    "Smoking is a categorical variable. Having lung cancer is also a categorical variable. Therefore, it is a \n",
    "proportion test."
   ]
  },
  {
   "cell_type": "markdown",
   "id": "e1bb3201",
   "metadata": {},
   "source": [
    "s gender independent of a person’s blood type?"
   ]
  },
  {
   "cell_type": "markdown",
   "id": "f3594d0a",
   "metadata": {},
   "source": [
    "Gender is a categorical variable. A person's blood type is also categorical. Therefore, it is a proportion test.m"
   ]
  },
  {
   "cell_type": "markdown",
   "id": "77403c4f",
   "metadata": {},
   "source": [
    "Does whether or not a person has a cat or dog affect whether they live in an apartment?"
   ]
  },
  {
   "cell_type": "markdown",
   "id": "86a7fc11",
   "metadata": {},
   "source": [
    "A person owning a cat/dog is categorical, same as living in an apartment. Therefore, this is a proportion test."
   ]
  },
  {
   "cell_type": "markdown",
   "id": "19918f85",
   "metadata": {},
   "source": [
    "Does the length of time of the lecture correlate with a student's grade?"
   ]
  },
  {
   "cell_type": "markdown",
   "id": "60f6bf3f",
   "metadata": {},
   "source": [
    "Length of the lecture is continuous. Assuming the student's grade is measured by a numerical index and not an \n",
    "alphabetical index, then the student's grade is a continuous variable, and so it is a correlation test."
   ]
  },
  {
   "cell_type": "markdown",
   "id": "b7173e55",
   "metadata": {},
   "source": [
    "Use the telco_churn data."
   ]
  },
  {
   "cell_type": "code",
   "execution_count": 190,
   "id": "14a6a408",
   "metadata": {},
   "outputs": [
    {
     "data": {
      "text/html": [
       "<div>\n",
       "<style scoped>\n",
       "    .dataframe tbody tr th:only-of-type {\n",
       "        vertical-align: middle;\n",
       "    }\n",
       "\n",
       "    .dataframe tbody tr th {\n",
       "        vertical-align: top;\n",
       "    }\n",
       "\n",
       "    .dataframe thead th {\n",
       "        text-align: right;\n",
       "    }\n",
       "</style>\n",
       "<table border=\"1\" class=\"dataframe\">\n",
       "  <thead>\n",
       "    <tr style=\"text-align: right;\">\n",
       "      <th></th>\n",
       "      <th>Tables_in_telco_churn</th>\n",
       "    </tr>\n",
       "  </thead>\n",
       "  <tbody>\n",
       "    <tr>\n",
       "      <th>0</th>\n",
       "      <td>contract_types</td>\n",
       "    </tr>\n",
       "    <tr>\n",
       "      <th>1</th>\n",
       "      <td>customer_churn</td>\n",
       "    </tr>\n",
       "    <tr>\n",
       "      <th>2</th>\n",
       "      <td>customer_contracts</td>\n",
       "    </tr>\n",
       "    <tr>\n",
       "      <th>3</th>\n",
       "      <td>customer_details</td>\n",
       "    </tr>\n",
       "    <tr>\n",
       "      <th>4</th>\n",
       "      <td>customer_payments</td>\n",
       "    </tr>\n",
       "    <tr>\n",
       "      <th>5</th>\n",
       "      <td>customer_signups</td>\n",
       "    </tr>\n",
       "    <tr>\n",
       "      <th>6</th>\n",
       "      <td>customer_subscriptions</td>\n",
       "    </tr>\n",
       "    <tr>\n",
       "      <th>7</th>\n",
       "      <td>customers</td>\n",
       "    </tr>\n",
       "    <tr>\n",
       "      <th>8</th>\n",
       "      <td>internet_service_types</td>\n",
       "    </tr>\n",
       "    <tr>\n",
       "      <th>9</th>\n",
       "      <td>payment_types</td>\n",
       "    </tr>\n",
       "  </tbody>\n",
       "</table>\n",
       "</div>"
      ],
      "text/plain": [
       "    Tables_in_telco_churn\n",
       "0          contract_types\n",
       "1          customer_churn\n",
       "2      customer_contracts\n",
       "3        customer_details\n",
       "4       customer_payments\n",
       "5        customer_signups\n",
       "6  customer_subscriptions\n",
       "7               customers\n",
       "8  internet_service_types\n",
       "9           payment_types"
      ]
     },
     "execution_count": 190,
     "metadata": {},
     "output_type": "execute_result"
    }
   ],
   "source": [
    "url= get_db_url(env.user, env.host, env.password, 'telco_churn')\n",
    "pd.read_sql('show tables',url)"
   ]
  },
  {
   "cell_type": "code",
   "execution_count": 50,
   "id": "b1d81a02",
   "metadata": {},
   "outputs": [],
   "source": [
    "# Does tenure correlate with monthly charges?"
   ]
  },
  {
   "cell_type": "code",
   "execution_count": 191,
   "id": "fa3f1496",
   "metadata": {},
   "outputs": [],
   "source": [
    "alpha = .05"
   ]
  },
  {
   "cell_type": "markdown",
   "id": "ffdf6b04",
   "metadata": {},
   "source": [
    "\n",
    "$H_o$ there is no linear relationship between montly charges and tenure\n",
    "\n",
    "$H_a$: there is a linear relationship between monthly charges and tenure"
   ]
  },
  {
   "cell_type": "code",
   "execution_count": 198,
   "id": "ffc98606",
   "metadata": {},
   "outputs": [
    {
     "data": {
      "text/html": [
       "<div>\n",
       "<style scoped>\n",
       "    .dataframe tbody tr th:only-of-type {\n",
       "        vertical-align: middle;\n",
       "    }\n",
       "\n",
       "    .dataframe tbody tr th {\n",
       "        vertical-align: top;\n",
       "    }\n",
       "\n",
       "    .dataframe thead th {\n",
       "        text-align: right;\n",
       "    }\n",
       "</style>\n",
       "<table border=\"1\" class=\"dataframe\">\n",
       "  <thead>\n",
       "    <tr style=\"text-align: right;\">\n",
       "      <th></th>\n",
       "      <th>customer_id</th>\n",
       "      <th>gender</th>\n",
       "      <th>senior_citizen</th>\n",
       "      <th>partner</th>\n",
       "      <th>dependents</th>\n",
       "      <th>tenure</th>\n",
       "      <th>phone_service</th>\n",
       "      <th>multiple_lines</th>\n",
       "      <th>internet_service_type_id</th>\n",
       "      <th>online_security</th>\n",
       "      <th>...</th>\n",
       "      <th>device_protection</th>\n",
       "      <th>tech_support</th>\n",
       "      <th>streaming_tv</th>\n",
       "      <th>streaming_movies</th>\n",
       "      <th>contract_type_id</th>\n",
       "      <th>paperless_billing</th>\n",
       "      <th>payment_type_id</th>\n",
       "      <th>monthly_charges</th>\n",
       "      <th>total_charges</th>\n",
       "      <th>churn</th>\n",
       "    </tr>\n",
       "  </thead>\n",
       "  <tbody>\n",
       "    <tr>\n",
       "      <th>0</th>\n",
       "      <td>0002-ORFBO</td>\n",
       "      <td>Female</td>\n",
       "      <td>0</td>\n",
       "      <td>Yes</td>\n",
       "      <td>Yes</td>\n",
       "      <td>9</td>\n",
       "      <td>Yes</td>\n",
       "      <td>No</td>\n",
       "      <td>1</td>\n",
       "      <td>No</td>\n",
       "      <td>...</td>\n",
       "      <td>No</td>\n",
       "      <td>Yes</td>\n",
       "      <td>Yes</td>\n",
       "      <td>No</td>\n",
       "      <td>2</td>\n",
       "      <td>Yes</td>\n",
       "      <td>2</td>\n",
       "      <td>65.6</td>\n",
       "      <td>593.3</td>\n",
       "      <td>No</td>\n",
       "    </tr>\n",
       "    <tr>\n",
       "      <th>1</th>\n",
       "      <td>0003-MKNFE</td>\n",
       "      <td>Male</td>\n",
       "      <td>0</td>\n",
       "      <td>No</td>\n",
       "      <td>No</td>\n",
       "      <td>9</td>\n",
       "      <td>Yes</td>\n",
       "      <td>Yes</td>\n",
       "      <td>1</td>\n",
       "      <td>No</td>\n",
       "      <td>...</td>\n",
       "      <td>No</td>\n",
       "      <td>No</td>\n",
       "      <td>No</td>\n",
       "      <td>Yes</td>\n",
       "      <td>1</td>\n",
       "      <td>No</td>\n",
       "      <td>2</td>\n",
       "      <td>59.9</td>\n",
       "      <td>542.4</td>\n",
       "      <td>No</td>\n",
       "    </tr>\n",
       "    <tr>\n",
       "      <th>2</th>\n",
       "      <td>0004-TLHLJ</td>\n",
       "      <td>Male</td>\n",
       "      <td>0</td>\n",
       "      <td>No</td>\n",
       "      <td>No</td>\n",
       "      <td>4</td>\n",
       "      <td>Yes</td>\n",
       "      <td>No</td>\n",
       "      <td>2</td>\n",
       "      <td>No</td>\n",
       "      <td>...</td>\n",
       "      <td>Yes</td>\n",
       "      <td>No</td>\n",
       "      <td>No</td>\n",
       "      <td>No</td>\n",
       "      <td>1</td>\n",
       "      <td>Yes</td>\n",
       "      <td>1</td>\n",
       "      <td>73.9</td>\n",
       "      <td>280.85</td>\n",
       "      <td>Yes</td>\n",
       "    </tr>\n",
       "    <tr>\n",
       "      <th>3</th>\n",
       "      <td>0011-IGKFF</td>\n",
       "      <td>Male</td>\n",
       "      <td>1</td>\n",
       "      <td>Yes</td>\n",
       "      <td>No</td>\n",
       "      <td>13</td>\n",
       "      <td>Yes</td>\n",
       "      <td>No</td>\n",
       "      <td>2</td>\n",
       "      <td>No</td>\n",
       "      <td>...</td>\n",
       "      <td>Yes</td>\n",
       "      <td>No</td>\n",
       "      <td>Yes</td>\n",
       "      <td>Yes</td>\n",
       "      <td>1</td>\n",
       "      <td>Yes</td>\n",
       "      <td>1</td>\n",
       "      <td>98.0</td>\n",
       "      <td>1237.85</td>\n",
       "      <td>Yes</td>\n",
       "    </tr>\n",
       "    <tr>\n",
       "      <th>4</th>\n",
       "      <td>0013-EXCHZ</td>\n",
       "      <td>Female</td>\n",
       "      <td>1</td>\n",
       "      <td>Yes</td>\n",
       "      <td>No</td>\n",
       "      <td>3</td>\n",
       "      <td>Yes</td>\n",
       "      <td>No</td>\n",
       "      <td>2</td>\n",
       "      <td>No</td>\n",
       "      <td>...</td>\n",
       "      <td>No</td>\n",
       "      <td>Yes</td>\n",
       "      <td>Yes</td>\n",
       "      <td>No</td>\n",
       "      <td>1</td>\n",
       "      <td>Yes</td>\n",
       "      <td>2</td>\n",
       "      <td>83.9</td>\n",
       "      <td>267.4</td>\n",
       "      <td>Yes</td>\n",
       "    </tr>\n",
       "  </tbody>\n",
       "</table>\n",
       "<p>5 rows × 21 columns</p>\n",
       "</div>"
      ],
      "text/plain": [
       "  customer_id  gender  senior_citizen partner dependents  tenure  \\\n",
       "0  0002-ORFBO  Female               0     Yes        Yes       9   \n",
       "1  0003-MKNFE    Male               0      No         No       9   \n",
       "2  0004-TLHLJ    Male               0      No         No       4   \n",
       "3  0011-IGKFF    Male               1     Yes         No      13   \n",
       "4  0013-EXCHZ  Female               1     Yes         No       3   \n",
       "\n",
       "  phone_service multiple_lines  internet_service_type_id online_security  ...  \\\n",
       "0           Yes             No                         1              No  ...   \n",
       "1           Yes            Yes                         1              No  ...   \n",
       "2           Yes             No                         2              No  ...   \n",
       "3           Yes             No                         2              No  ...   \n",
       "4           Yes             No                         2              No  ...   \n",
       "\n",
       "  device_protection tech_support streaming_tv streaming_movies  \\\n",
       "0                No          Yes          Yes               No   \n",
       "1                No           No           No              Yes   \n",
       "2               Yes           No           No               No   \n",
       "3               Yes           No          Yes              Yes   \n",
       "4                No          Yes          Yes               No   \n",
       "\n",
       "  contract_type_id  paperless_billing payment_type_id  monthly_charges  \\\n",
       "0                2                Yes               2             65.6   \n",
       "1                1                 No               2             59.9   \n",
       "2                1                Yes               1             73.9   \n",
       "3                1                Yes               1             98.0   \n",
       "4                1                Yes               2             83.9   \n",
       "\n",
       "   total_charges churn  \n",
       "0          593.3    No  \n",
       "1          542.4    No  \n",
       "2         280.85   Yes  \n",
       "3        1237.85   Yes  \n",
       "4          267.4   Yes  \n",
       "\n",
       "[5 rows x 21 columns]"
      ]
     },
     "execution_count": 198,
     "metadata": {},
     "output_type": "execute_result"
    }
   ],
   "source": [
    "cust_df = pd.read_sql('select * from customers',url)\n",
    "cust_df.head()"
   ]
  },
  {
   "cell_type": "code",
   "execution_count": 199,
   "id": "fe50ad76",
   "metadata": {},
   "outputs": [
    {
     "data": {
      "text/plain": [
       "<Axes: xlabel='tenure', ylabel='monthly_charges'>"
      ]
     },
     "execution_count": 199,
     "metadata": {},
     "output_type": "execute_result"
    },
    {
     "data": {
      "image/png": "[encoded data removed]",
      "text/plain": [
       "<Figure size 640x480 with 1 Axes>"
      ]
     },
     "metadata": {},
     "output_type": "display_data"
    }
   ],
   "source": [
    "sns.scatterplot(data=cust_df, y='monthly_charges', x='tenure')"
   ]
  },
  {
   "cell_type": "code",
   "execution_count": 201,
   "id": "332b3938",
   "metadata": {},
   "outputs": [],
   "source": [
    "r, p = stats.pearsonr(cust_df.monthly_charges, cust_df.tenure)"
   ]
  },
  {
   "cell_type": "code",
   "execution_count": 202,
   "id": "c2e4cf73",
   "metadata": {},
   "outputs": [
    {
     "data": {
      "text/plain": [
       "0.24789985628615246"
      ]
     },
     "execution_count": 202,
     "metadata": {},
     "output_type": "execute_result"
    }
   ],
   "source": [
    "r"
   ]
  },
  {
   "cell_type": "code",
   "execution_count": 203,
   "id": "95272b7e",
   "metadata": {},
   "outputs": [
    {
     "data": {
      "text/plain": [
       "4.094044991476844e-99"
      ]
     },
     "execution_count": 203,
     "metadata": {},
     "output_type": "execute_result"
    }
   ],
   "source": [
    "p"
   ]
  },
  {
   "cell_type": "code",
   "execution_count": 56,
   "id": "394a48a7",
   "metadata": {},
   "outputs": [],
   "source": [
    "# reject null there is a relationship but it is weak"
   ]
  },
  {
   "cell_type": "markdown",
   "id": "88bf4631",
   "metadata": {},
   "source": [
    "Total charges?"
   ]
  },
  {
   "cell_type": "code",
   "execution_count": 58,
   "id": "85a38b9f",
   "metadata": {},
   "outputs": [],
   "source": [
    "# cust_df.total_charges.astype(float)"
   ]
  },
  {
   "cell_type": "code",
   "execution_count": 204,
   "id": "b66dfa9e",
   "metadata": {},
   "outputs": [],
   "source": [
    "# could strip out space\n",
    "# df.total_charges.str.strip().value_counts().index\n",
    "# could drop data due to only 11 rows\n",
    "cust_df = cust_df [cust_df.total_charges != ' ']"
   ]
  },
  {
   "cell_type": "code",
   "execution_count": 205,
   "id": "f1badc70",
   "metadata": {},
   "outputs": [
    {
     "data": {
      "text/html": [
       "<div>\n",
       "<style scoped>\n",
       "    .dataframe tbody tr th:only-of-type {\n",
       "        vertical-align: middle;\n",
       "    }\n",
       "\n",
       "    .dataframe tbody tr th {\n",
       "        vertical-align: top;\n",
       "    }\n",
       "\n",
       "    .dataframe thead th {\n",
       "        text-align: right;\n",
       "    }\n",
       "</style>\n",
       "<table border=\"1\" class=\"dataframe\">\n",
       "  <thead>\n",
       "    <tr style=\"text-align: right;\">\n",
       "      <th></th>\n",
       "      <th>customer_id</th>\n",
       "      <th>gender</th>\n",
       "      <th>senior_citizen</th>\n",
       "      <th>partner</th>\n",
       "      <th>dependents</th>\n",
       "      <th>tenure</th>\n",
       "      <th>phone_service</th>\n",
       "      <th>multiple_lines</th>\n",
       "      <th>internet_service_type_id</th>\n",
       "      <th>online_security</th>\n",
       "      <th>...</th>\n",
       "      <th>device_protection</th>\n",
       "      <th>tech_support</th>\n",
       "      <th>streaming_tv</th>\n",
       "      <th>streaming_movies</th>\n",
       "      <th>contract_type_id</th>\n",
       "      <th>paperless_billing</th>\n",
       "      <th>payment_type_id</th>\n",
       "      <th>monthly_charges</th>\n",
       "      <th>total_charges</th>\n",
       "      <th>churn</th>\n",
       "    </tr>\n",
       "  </thead>\n",
       "  <tbody>\n",
       "  </tbody>\n",
       "</table>\n",
       "<p>0 rows × 21 columns</p>\n",
       "</div>"
      ],
      "text/plain": [
       "Empty DataFrame\n",
       "Columns: [customer_id, gender, senior_citizen, partner, dependents, tenure, phone_service, multiple_lines, internet_service_type_id, online_security, online_backup, device_protection, tech_support, streaming_tv, streaming_movies, contract_type_id, paperless_billing, payment_type_id, monthly_charges, total_charges, churn]\n",
       "Index: []\n",
       "\n",
       "[0 rows x 21 columns]"
      ]
     },
     "execution_count": 205,
     "metadata": {},
     "output_type": "execute_result"
    }
   ],
   "source": [
    "# view data of the 11 rows with unaligned data to understand it better\n",
    "cust_df [cust_df.total_charges == ' ']\n",
    "# reveals they are probably new customers and can replace ' ' with 0 and then convert to float"
   ]
  },
  {
   "cell_type": "code",
   "execution_count": 208,
   "id": "2f8a8d4b",
   "metadata": {},
   "outputs": [],
   "source": [
    "# Found errors in plotting, so need to fix them\n",
    "cust_df.total_charges = pd.to_numeric(cust_df.total_charges,errors='coerce')\n",
    "\n",
    "# Drop nulls, nas, etc.\n",
    "# customers.total_charges = customers.total_charges.dropna()\n",
    "cust_df = cust_df.dropna()"
   ]
  },
  {
   "cell_type": "code",
   "execution_count": 209,
   "id": "49e2ecff",
   "metadata": {},
   "outputs": [
    {
     "data": {
      "text/plain": [
       "<Axes: xlabel='tenure', ylabel='total_charges'>"
      ]
     },
     "execution_count": 209,
     "metadata": {},
     "output_type": "execute_result"
    },
    {
     "data": {
      "image/png": "[encoded data removed]",
      "text/plain": [
       "<Figure size 640x480 with 1 Axes>"
      ]
     },
     "metadata": {},
     "output_type": "display_data"
    }
   ],
   "source": [
    "sns.scatterplot(data=cust_df, x='tenure', y='total_charges')"
   ]
  },
  {
   "cell_type": "code",
   "execution_count": 210,
   "id": "7b03b603",
   "metadata": {},
   "outputs": [],
   "source": [
    "r,p = stats.pearsonr(cust_df.tenure, cust_df.total_charges)"
   ]
  },
  {
   "cell_type": "code",
   "execution_count": 64,
   "id": "3aca62e1",
   "metadata": {},
   "outputs": [],
   "source": [
    "# What happens if you control for phone and internet service?"
   ]
  },
  {
   "cell_type": "code",
   "execution_count": 211,
   "id": "f69a12c4",
   "metadata": {},
   "outputs": [
    {
     "data": {
      "text/plain": [
       "phone_service\n",
       "Yes    6352\n",
       "No      680\n",
       "Name: count, dtype: int64"
      ]
     },
     "execution_count": 211,
     "metadata": {},
     "output_type": "execute_result"
    }
   ],
   "source": [
    "cust_df.phone_service.value_counts()"
   ]
  },
  {
   "cell_type": "code",
   "execution_count": 214,
   "id": "701a0ed0",
   "metadata": {},
   "outputs": [
    {
     "data": {
      "text/plain": [
       "internet_service_type_id\n",
       "2    3096\n",
       "1    2416\n",
       "3    1520\n",
       "Name: count, dtype: int64"
      ]
     },
     "execution_count": 214,
     "metadata": {},
     "output_type": "execute_result"
    }
   ],
   "source": [
    "\n",
    "cust_df.internet_service_type_id.value_counts()"
   ]
  },
  {
   "cell_type": "code",
   "execution_count": 216,
   "id": "80f10a6c",
   "metadata": {},
   "outputs": [
    {
     "ename": "AttributeError",
     "evalue": "'DataFrame' object has no attribute 'internet_service_type'",
     "output_type": "error",
     "traceback": [
      "\u001b[0;31m---------------------------------------------------------------------------\u001b[0m",
      "\u001b[0;31mAttributeError\u001b[0m                            Traceback (most recent call last)",
      "\u001b[0;32m/var/folders/3h/_gbbs92x3mv_9c0xzbt1s9dm0000gn/T/ipykernel_52836/670881237.py\u001b[0m in \u001b[0;36m?\u001b[0;34m()\u001b[0m\n\u001b[0;32m----> 1\u001b[0;31m \u001b[0mcust_df\u001b[0m\u001b[0;34m.\u001b[0m\u001b[0minternet_service_type\u001b[0m\u001b[0;34m.\u001b[0m\u001b[0mvalue_counts\u001b[0m\u001b[0;34m(\u001b[0m\u001b[0;34m)\u001b[0m\u001b[0;34m\u001b[0m\u001b[0;34m\u001b[0m\u001b[0m\n\u001b[0m",
      "\u001b[0;32m/opt/homebrew/anaconda3/lib/python3.11/site-packages/pandas/core/generic.py\u001b[0m in \u001b[0;36m?\u001b[0;34m(self, name)\u001b[0m\n\u001b[1;32m   5985\u001b[0m             \u001b[0;32mand\u001b[0m \u001b[0mname\u001b[0m \u001b[0;32mnot\u001b[0m \u001b[0;32min\u001b[0m \u001b[0mself\u001b[0m\u001b[0;34m.\u001b[0m\u001b[0m_accessors\u001b[0m\u001b[0;34m\u001b[0m\u001b[0;34m\u001b[0m\u001b[0m\n\u001b[1;32m   5986\u001b[0m             \u001b[0;32mand\u001b[0m \u001b[0mself\u001b[0m\u001b[0;34m.\u001b[0m\u001b[0m_info_axis\u001b[0m\u001b[0;34m.\u001b[0m\u001b[0m_can_hold_identifiers_and_holds_name\u001b[0m\u001b[0;34m(\u001b[0m\u001b[0mname\u001b[0m\u001b[0;34m)\u001b[0m\u001b[0;34m\u001b[0m\u001b[0;34m\u001b[0m\u001b[0m\n\u001b[1;32m   5987\u001b[0m         ):\n\u001b[1;32m   5988\u001b[0m             \u001b[0;32mreturn\u001b[0m \u001b[0mself\u001b[0m\u001b[0;34m[\u001b[0m\u001b[0mname\u001b[0m\u001b[0;34m]\u001b[0m\u001b[0;34m\u001b[0m\u001b[0;34m\u001b[0m\u001b[0m\n\u001b[0;32m-> 5989\u001b[0;31m         \u001b[0;32mreturn\u001b[0m \u001b[0mobject\u001b[0m\u001b[0;34m.\u001b[0m\u001b[0m__getattribute__\u001b[0m\u001b[0;34m(\u001b[0m\u001b[0mself\u001b[0m\u001b[0;34m,\u001b[0m \u001b[0mname\u001b[0m\u001b[0;34m)\u001b[0m\u001b[0;34m\u001b[0m\u001b[0;34m\u001b[0m\u001b[0m\n\u001b[0m",
      "\u001b[0;31mAttributeError\u001b[0m: 'DataFrame' object has no attribute 'internet_service_type'"
     ]
    }
   ],
   "source": [
    "cust_df.internet_service_type.value_counts()"
   ]
  },
  {
   "cell_type": "code",
   "execution_count": 67,
   "id": "82437794",
   "metadata": {},
   "outputs": [],
   "source": [
    "# to find out what 1 2 3 mean join internet table "
   ]
  },
  {
   "cell_type": "code",
   "execution_count": 215,
   "id": "077c559b",
   "metadata": {},
   "outputs": [
    {
     "ename": "ValueError",
     "evalue": "Could not interpret value `internet_service_type` for parameter `hue`",
     "output_type": "error",
     "traceback": [
      "\u001b[0;31m---------------------------------------------------------------------------\u001b[0m",
      "\u001b[0;31mValueError\u001b[0m                                Traceback (most recent call last)",
      "Cell \u001b[0;32mIn[215], line 1\u001b[0m\n\u001b[0;32m----> 1\u001b[0m sns\u001b[38;5;241m.\u001b[39mrelplot(data\u001b[38;5;241m=\u001b[39mcust_df, y\u001b[38;5;241m=\u001b[39m\u001b[38;5;124m'\u001b[39m\u001b[38;5;124mmonthly_charges\u001b[39m\u001b[38;5;124m'\u001b[39m, x\u001b[38;5;241m=\u001b[39m\u001b[38;5;124m'\u001b[39m\u001b[38;5;124mtenure\u001b[39m\u001b[38;5;124m'\u001b[39m, \n\u001b[1;32m      2\u001b[0m                 col\u001b[38;5;241m=\u001b[39m\u001b[38;5;124m'\u001b[39m\u001b[38;5;124mphone_service\u001b[39m\u001b[38;5;124m'\u001b[39m, hue\u001b[38;5;241m=\u001b[39m\u001b[38;5;124m'\u001b[39m\u001b[38;5;124minternet_service_type\u001b[39m\u001b[38;5;124m'\u001b[39m)\n",
      "File \u001b[0;32m/opt/homebrew/anaconda3/lib/python3.11/site-packages/seaborn/relational.py:862\u001b[0m, in \u001b[0;36mrelplot\u001b[0;34m(data, x, y, hue, size, style, units, row, col, col_wrap, row_order, col_order, palette, hue_order, hue_norm, sizes, size_order, size_norm, markers, dashes, style_order, legend, kind, height, aspect, facet_kws, **kwargs)\u001b[0m\n\u001b[1;32m    859\u001b[0m     kwargs\u001b[38;5;241m.\u001b[39mpop(\u001b[38;5;124m\"\u001b[39m\u001b[38;5;124max\u001b[39m\u001b[38;5;124m\"\u001b[39m)\n\u001b[1;32m    861\u001b[0m \u001b[38;5;66;03m# Use the full dataset to map the semantics\u001b[39;00m\n\u001b[0;32m--> 862\u001b[0m p \u001b[38;5;241m=\u001b[39m plotter(\n\u001b[1;32m    863\u001b[0m     data\u001b[38;5;241m=\u001b[39mdata,\n\u001b[1;32m    864\u001b[0m     variables\u001b[38;5;241m=\u001b[39mplotter\u001b[38;5;241m.\u001b[39mget_semantics(\u001b[38;5;28mlocals\u001b[39m()),\n\u001b[1;32m    865\u001b[0m     legend\u001b[38;5;241m=\u001b[39mlegend,\n\u001b[1;32m    866\u001b[0m )\n\u001b[1;32m    867\u001b[0m p\u001b[38;5;241m.\u001b[39mmap_hue(palette\u001b[38;5;241m=\u001b[39mpalette, order\u001b[38;5;241m=\u001b[39mhue_order, norm\u001b[38;5;241m=\u001b[39mhue_norm)\n\u001b[1;32m    868\u001b[0m p\u001b[38;5;241m.\u001b[39mmap_size(sizes\u001b[38;5;241m=\u001b[39msizes, order\u001b[38;5;241m=\u001b[39msize_order, norm\u001b[38;5;241m=\u001b[39msize_norm)\n",
      "File \u001b[0;32m/opt/homebrew/anaconda3/lib/python3.11/site-packages/seaborn/relational.py:538\u001b[0m, in \u001b[0;36m_ScatterPlotter.__init__\u001b[0;34m(self, data, variables, legend)\u001b[0m\n\u001b[1;32m    529\u001b[0m \u001b[38;5;28;01mdef\u001b[39;00m \u001b[38;5;21m__init__\u001b[39m(\u001b[38;5;28mself\u001b[39m, \u001b[38;5;241m*\u001b[39m, data\u001b[38;5;241m=\u001b[39m\u001b[38;5;28;01mNone\u001b[39;00m, variables\u001b[38;5;241m=\u001b[39m{}, legend\u001b[38;5;241m=\u001b[39m\u001b[38;5;28;01mNone\u001b[39;00m):\n\u001b[1;32m    530\u001b[0m \n\u001b[1;32m    531\u001b[0m     \u001b[38;5;66;03m# TODO this is messy, we want the mapping to be agnostic about\u001b[39;00m\n\u001b[1;32m    532\u001b[0m     \u001b[38;5;66;03m# the kind of plot to draw, but for the time being we need to set\u001b[39;00m\n\u001b[1;32m    533\u001b[0m     \u001b[38;5;66;03m# this information so the SizeMapping can use it\u001b[39;00m\n\u001b[1;32m    534\u001b[0m     \u001b[38;5;28mself\u001b[39m\u001b[38;5;241m.\u001b[39m_default_size_range \u001b[38;5;241m=\u001b[39m (\n\u001b[1;32m    535\u001b[0m         np\u001b[38;5;241m.\u001b[39mr_[\u001b[38;5;241m.5\u001b[39m, \u001b[38;5;241m2\u001b[39m] \u001b[38;5;241m*\u001b[39m np\u001b[38;5;241m.\u001b[39msquare(mpl\u001b[38;5;241m.\u001b[39mrcParams[\u001b[38;5;124m\"\u001b[39m\u001b[38;5;124mlines.markersize\u001b[39m\u001b[38;5;124m\"\u001b[39m])\n\u001b[1;32m    536\u001b[0m     )\n\u001b[0;32m--> 538\u001b[0m     \u001b[38;5;28msuper\u001b[39m()\u001b[38;5;241m.\u001b[39m\u001b[38;5;21m__init__\u001b[39m(data\u001b[38;5;241m=\u001b[39mdata, variables\u001b[38;5;241m=\u001b[39mvariables)\n\u001b[1;32m    540\u001b[0m     \u001b[38;5;28mself\u001b[39m\u001b[38;5;241m.\u001b[39mlegend \u001b[38;5;241m=\u001b[39m legend\n",
      "File \u001b[0;32m/opt/homebrew/anaconda3/lib/python3.11/site-packages/seaborn/_oldcore.py:640\u001b[0m, in \u001b[0;36mVectorPlotter.__init__\u001b[0;34m(self, data, variables)\u001b[0m\n\u001b[1;32m    635\u001b[0m \u001b[38;5;66;03m# var_ordered is relevant only for categorical axis variables, and may\u001b[39;00m\n\u001b[1;32m    636\u001b[0m \u001b[38;5;66;03m# be better handled by an internal axis information object that tracks\u001b[39;00m\n\u001b[1;32m    637\u001b[0m \u001b[38;5;66;03m# such information and is set up by the scale_* methods. The analogous\u001b[39;00m\n\u001b[1;32m    638\u001b[0m \u001b[38;5;66;03m# information for numeric axes would be information about log scales.\u001b[39;00m\n\u001b[1;32m    639\u001b[0m \u001b[38;5;28mself\u001b[39m\u001b[38;5;241m.\u001b[39m_var_ordered \u001b[38;5;241m=\u001b[39m {\u001b[38;5;124m\"\u001b[39m\u001b[38;5;124mx\u001b[39m\u001b[38;5;124m\"\u001b[39m: \u001b[38;5;28;01mFalse\u001b[39;00m, \u001b[38;5;124m\"\u001b[39m\u001b[38;5;124my\u001b[39m\u001b[38;5;124m\"\u001b[39m: \u001b[38;5;28;01mFalse\u001b[39;00m}  \u001b[38;5;66;03m# alt., used DefaultDict\u001b[39;00m\n\u001b[0;32m--> 640\u001b[0m \u001b[38;5;28mself\u001b[39m\u001b[38;5;241m.\u001b[39massign_variables(data, variables)\n\u001b[1;32m    642\u001b[0m \u001b[38;5;28;01mfor\u001b[39;00m var, \u001b[38;5;28mcls\u001b[39m \u001b[38;5;129;01min\u001b[39;00m \u001b[38;5;28mself\u001b[39m\u001b[38;5;241m.\u001b[39m_semantic_mappings\u001b[38;5;241m.\u001b[39mitems():\n\u001b[1;32m    643\u001b[0m \n\u001b[1;32m    644\u001b[0m     \u001b[38;5;66;03m# Create the mapping function\u001b[39;00m\n\u001b[1;32m    645\u001b[0m     map_func \u001b[38;5;241m=\u001b[39m partial(\u001b[38;5;28mcls\u001b[39m\u001b[38;5;241m.\u001b[39mmap, plotter\u001b[38;5;241m=\u001b[39m\u001b[38;5;28mself\u001b[39m)\n",
      "File \u001b[0;32m/opt/homebrew/anaconda3/lib/python3.11/site-packages/seaborn/_oldcore.py:701\u001b[0m, in \u001b[0;36mVectorPlotter.assign_variables\u001b[0;34m(self, data, variables)\u001b[0m\n\u001b[1;32m    699\u001b[0m \u001b[38;5;28;01melse\u001b[39;00m:\n\u001b[1;32m    700\u001b[0m     \u001b[38;5;28mself\u001b[39m\u001b[38;5;241m.\u001b[39minput_format \u001b[38;5;241m=\u001b[39m \u001b[38;5;124m\"\u001b[39m\u001b[38;5;124mlong\u001b[39m\u001b[38;5;124m\"\u001b[39m\n\u001b[0;32m--> 701\u001b[0m     plot_data, variables \u001b[38;5;241m=\u001b[39m \u001b[38;5;28mself\u001b[39m\u001b[38;5;241m.\u001b[39m_assign_variables_longform(\n\u001b[1;32m    702\u001b[0m         data, \u001b[38;5;241m*\u001b[39m\u001b[38;5;241m*\u001b[39mvariables,\n\u001b[1;32m    703\u001b[0m     )\n\u001b[1;32m    705\u001b[0m \u001b[38;5;28mself\u001b[39m\u001b[38;5;241m.\u001b[39mplot_data \u001b[38;5;241m=\u001b[39m plot_data\n\u001b[1;32m    706\u001b[0m \u001b[38;5;28mself\u001b[39m\u001b[38;5;241m.\u001b[39mvariables \u001b[38;5;241m=\u001b[39m variables\n",
      "File \u001b[0;32m/opt/homebrew/anaconda3/lib/python3.11/site-packages/seaborn/_oldcore.py:938\u001b[0m, in \u001b[0;36mVectorPlotter._assign_variables_longform\u001b[0;34m(self, data, **kwargs)\u001b[0m\n\u001b[1;32m    933\u001b[0m \u001b[38;5;28;01melif\u001b[39;00m \u001b[38;5;28misinstance\u001b[39m(val, (\u001b[38;5;28mstr\u001b[39m, \u001b[38;5;28mbytes\u001b[39m)):\n\u001b[1;32m    934\u001b[0m \n\u001b[1;32m    935\u001b[0m     \u001b[38;5;66;03m# This looks like a column name but we don't know what it means!\u001b[39;00m\n\u001b[1;32m    937\u001b[0m     err \u001b[38;5;241m=\u001b[39m \u001b[38;5;124mf\u001b[39m\u001b[38;5;124m\"\u001b[39m\u001b[38;5;124mCould not interpret value `\u001b[39m\u001b[38;5;132;01m{\u001b[39;00mval\u001b[38;5;132;01m}\u001b[39;00m\u001b[38;5;124m` for parameter `\u001b[39m\u001b[38;5;132;01m{\u001b[39;00mkey\u001b[38;5;132;01m}\u001b[39;00m\u001b[38;5;124m`\u001b[39m\u001b[38;5;124m\"\u001b[39m\n\u001b[0;32m--> 938\u001b[0m     \u001b[38;5;28;01mraise\u001b[39;00m \u001b[38;5;167;01mValueError\u001b[39;00m(err)\n\u001b[1;32m    940\u001b[0m \u001b[38;5;28;01melse\u001b[39;00m:\n\u001b[1;32m    941\u001b[0m \n\u001b[1;32m    942\u001b[0m     \u001b[38;5;66;03m# Otherwise, assume the value is itself data\u001b[39;00m\n\u001b[1;32m    943\u001b[0m \n\u001b[1;32m    944\u001b[0m     \u001b[38;5;66;03m# Raise when data object is present and a vector can't matched\u001b[39;00m\n\u001b[1;32m    945\u001b[0m     \u001b[38;5;28;01mif\u001b[39;00m \u001b[38;5;28misinstance\u001b[39m(data, pd\u001b[38;5;241m.\u001b[39mDataFrame) \u001b[38;5;129;01mand\u001b[39;00m \u001b[38;5;129;01mnot\u001b[39;00m \u001b[38;5;28misinstance\u001b[39m(val, pd\u001b[38;5;241m.\u001b[39mSeries):\n",
      "\u001b[0;31mValueError\u001b[0m: Could not interpret value `internet_service_type` for parameter `hue`"
     ]
    }
   ],
   "source": [
    "sns.relplot(data=cust_df, y='monthly_charges', x='tenure', \n",
    "                col='phone_service', hue='internet_service_type');"
   ]
  },
  {
   "cell_type": "code",
   "execution_count": null,
   "id": "972ba26d",
   "metadata": {},
   "outputs": [],
   "source": []
  },
  {
   "cell_type": "markdown",
   "id": "13aafaa8",
   "metadata": {},
   "source": [
    "TTest Exercises and stuff"
   ]
  },
  {
   "cell_type": "markdown",
   "id": "ebbc1424",
   "metadata": {},
   "source": [
    "Is there a difference in grades of students on the second floor compared to grades of all students?"
   ]
  },
  {
   "cell_type": "markdown",
   "id": "f68b6a55",
   "metadata": {},
   "source": [
    "one sample two tailed"
   ]
  },
  {
   "cell_type": "markdown",
   "id": "2d6e54e8",
   "metadata": {},
   "source": [
    "Are adults who drink milk taller than adults who don't drink milk?"
   ]
  },
  {
   "cell_type": "markdown",
   "id": "168612d9",
   "metadata": {},
   "source": [
    "two sample one tailed"
   ]
  },
  {
   "cell_type": "markdown",
   "id": "795a69dc",
   "metadata": {},
   "source": [
    "Is the price of gas higher in Texas or in New Mexico?"
   ]
  },
  {
   "cell_type": "markdown",
   "id": "d8261abb",
   "metadata": {},
   "source": [
    "two sample one tailed"
   ]
  },
  {
   "cell_type": "markdown",
   "id": "7accc5d7",
   "metadata": {},
   "source": [
    "Are there differences in stress levels between students who take data science vs \n",
    "students who take web development vs students who take cloud academy?"
   ]
  },
  {
   "cell_type": "markdown",
   "id": "98c8c71a",
   "metadata": {},
   "source": [
    "Anova"
   ]
  },
  {
   "cell_type": "markdown",
   "id": "74f26061",
   "metadata": {},
   "source": [
    "Ace Realty wants to determine whether the average time it takes to sell homes is different for its two offices. \n",
    "A sample of 40 sales from office #1 revealed a mean of 90 days and a standard deviation of 15 days. A sample of \n",
    "50 sales from office #2 revealed a mean of 100 days and a standard deviation of 20 days. Use a .05 level of \n",
    "significance."
   ]
  },
  {
   "cell_type": "markdown",
   "id": "fba77050",
   "metadata": {},
   "source": [
    "$H_o$: there is no difference\n",
    "$H_a$: there is a difference in average time it takes to sell a home"
   ]
  },
  {
   "cell_type": "code",
   "execution_count": 68,
   "id": "24951872",
   "metadata": {},
   "outputs": [],
   "source": [
    "sample1=40\n",
    "sample2=50\n",
    "μ1=90\n",
    "σ1=15\n",
    "μ2=100\n",
    "σ2=20\n",
    "α=.05"
   ]
  },
  {
   "cell_type": "code",
   "execution_count": 69,
   "id": "7d900803",
   "metadata": {},
   "outputs": [],
   "source": [
    "t_stats, p = stats.ttest_ind_from_stats(μ1,σ1,sample1,μ2,σ2,sample2)"
   ]
  },
  {
   "cell_type": "code",
   "execution_count": 70,
   "id": "98491151",
   "metadata": {},
   "outputs": [
    {
     "data": {
      "text/plain": [
       "(-2.6252287036468456, 0.01020985244923939)"
      ]
     },
     "execution_count": 70,
     "metadata": {},
     "output_type": "execute_result"
    }
   ],
   "source": [
    "t_stats, p\n"
   ]
  },
  {
   "cell_type": "code",
   "execution_count": 71,
   "id": "b2f05831",
   "metadata": {},
   "outputs": [
    {
     "name": "stdout",
     "output_type": "stream",
     "text": [
      "reject null\n"
     ]
    }
   ],
   "source": [
    "if p < α:\n",
    "    print('reject null')\n",
    "else:\n",
    "    print('accept null')"
   ]
  },
  {
   "cell_type": "markdown",
   "id": "74dfd921",
   "metadata": {},
   "source": [
    "Load the mpg dataset and use it to answer the following questions:\n",
    "\n"
   ]
  },
  {
   "cell_type": "markdown",
   "id": "38b5fb0f",
   "metadata": {},
   "source": [
    "Is there a difference in fuel-efficiency in cars from 2008 vs 1999?\n"
   ]
  },
  {
   "cell_type": "markdown",
   "id": "16e3e72e",
   "metadata": {},
   "source": [
    "$H_o$: There is no difference in fuel efficency in 2008 & 1999 cars\n",
    "\n",
    "$H_a$: There is a difference in fuel efficency of 2008 & 1999 cars"
   ]
  },
  {
   "cell_type": "code",
   "execution_count": 72,
   "id": "e1ab4b69",
   "metadata": {},
   "outputs": [
    {
     "data": {
      "text/html": [
       "<div>\n",
       "<style scoped>\n",
       "    .dataframe tbody tr th:only-of-type {\n",
       "        vertical-align: middle;\n",
       "    }\n",
       "\n",
       "    .dataframe tbody tr th {\n",
       "        vertical-align: top;\n",
       "    }\n",
       "\n",
       "    .dataframe thead th {\n",
       "        text-align: right;\n",
       "    }\n",
       "</style>\n",
       "<table border=\"1\" class=\"dataframe\">\n",
       "  <thead>\n",
       "    <tr style=\"text-align: right;\">\n",
       "      <th></th>\n",
       "      <th>manufacturer</th>\n",
       "      <th>model</th>\n",
       "      <th>displ</th>\n",
       "      <th>year</th>\n",
       "      <th>cyl</th>\n",
       "      <th>trans</th>\n",
       "      <th>drv</th>\n",
       "      <th>cty</th>\n",
       "      <th>hwy</th>\n",
       "      <th>fl</th>\n",
       "      <th>class</th>\n",
       "    </tr>\n",
       "  </thead>\n",
       "  <tbody>\n",
       "    <tr>\n",
       "      <th>1</th>\n",
       "      <td>audi</td>\n",
       "      <td>a4</td>\n",
       "      <td>1.8</td>\n",
       "      <td>1999</td>\n",
       "      <td>4</td>\n",
       "      <td>auto(l5)</td>\n",
       "      <td>f</td>\n",
       "      <td>18</td>\n",
       "      <td>29</td>\n",
       "      <td>p</td>\n",
       "      <td>compact</td>\n",
       "    </tr>\n",
       "    <tr>\n",
       "      <th>2</th>\n",
       "      <td>audi</td>\n",
       "      <td>a4</td>\n",
       "      <td>1.8</td>\n",
       "      <td>1999</td>\n",
       "      <td>4</td>\n",
       "      <td>manual(m5)</td>\n",
       "      <td>f</td>\n",
       "      <td>21</td>\n",
       "      <td>29</td>\n",
       "      <td>p</td>\n",
       "      <td>compact</td>\n",
       "    </tr>\n",
       "    <tr>\n",
       "      <th>3</th>\n",
       "      <td>audi</td>\n",
       "      <td>a4</td>\n",
       "      <td>2.0</td>\n",
       "      <td>2008</td>\n",
       "      <td>4</td>\n",
       "      <td>manual(m6)</td>\n",
       "      <td>f</td>\n",
       "      <td>20</td>\n",
       "      <td>31</td>\n",
       "      <td>p</td>\n",
       "      <td>compact</td>\n",
       "    </tr>\n",
       "    <tr>\n",
       "      <th>4</th>\n",
       "      <td>audi</td>\n",
       "      <td>a4</td>\n",
       "      <td>2.0</td>\n",
       "      <td>2008</td>\n",
       "      <td>4</td>\n",
       "      <td>auto(av)</td>\n",
       "      <td>f</td>\n",
       "      <td>21</td>\n",
       "      <td>30</td>\n",
       "      <td>p</td>\n",
       "      <td>compact</td>\n",
       "    </tr>\n",
       "    <tr>\n",
       "      <th>5</th>\n",
       "      <td>audi</td>\n",
       "      <td>a4</td>\n",
       "      <td>2.8</td>\n",
       "      <td>1999</td>\n",
       "      <td>6</td>\n",
       "      <td>auto(l5)</td>\n",
       "      <td>f</td>\n",
       "      <td>16</td>\n",
       "      <td>26</td>\n",
       "      <td>p</td>\n",
       "      <td>compact</td>\n",
       "    </tr>\n",
       "  </tbody>\n",
       "</table>\n",
       "</div>"
      ],
      "text/plain": [
       "  manufacturer model  displ  year  cyl       trans drv  cty  hwy fl    class\n",
       "1         audi    a4    1.8  1999    4    auto(l5)   f   18   29  p  compact\n",
       "2         audi    a4    1.8  1999    4  manual(m5)   f   21   29  p  compact\n",
       "3         audi    a4    2.0  2008    4  manual(m6)   f   20   31  p  compact\n",
       "4         audi    a4    2.0  2008    4    auto(av)   f   21   30  p  compact\n",
       "5         audi    a4    2.8  1999    6    auto(l5)   f   16   26  p  compact"
      ]
     },
     "execution_count": 72,
     "metadata": {},
     "output_type": "execute_result"
    }
   ],
   "source": [
    "mpg_df = data('mpg')\n",
    "mpg_df.head()"
   ]
  },
  {
   "cell_type": "code",
   "execution_count": 73,
   "id": "15016439",
   "metadata": {},
   "outputs": [
    {
     "data": {
      "text/plain": [
       "year\n",
       "1999    117\n",
       "2008    117\n",
       "Name: count, dtype: int64"
      ]
     },
     "execution_count": 73,
     "metadata": {},
     "output_type": "execute_result"
    }
   ],
   "source": [
    "mpg_df.year.value_counts()"
   ]
  },
  {
   "cell_type": "code",
   "execution_count": 74,
   "id": "28ced5ef",
   "metadata": {},
   "outputs": [
    {
     "data": {
      "text/html": [
       "<div>\n",
       "<style scoped>\n",
       "    .dataframe tbody tr th:only-of-type {\n",
       "        vertical-align: middle;\n",
       "    }\n",
       "\n",
       "    .dataframe tbody tr th {\n",
       "        vertical-align: top;\n",
       "    }\n",
       "\n",
       "    .dataframe thead th {\n",
       "        text-align: right;\n",
       "    }\n",
       "</style>\n",
       "<table border=\"1\" class=\"dataframe\">\n",
       "  <thead>\n",
       "    <tr style=\"text-align: right;\">\n",
       "      <th></th>\n",
       "      <th>manufacturer</th>\n",
       "      <th>model</th>\n",
       "      <th>displ</th>\n",
       "      <th>year</th>\n",
       "      <th>cyl</th>\n",
       "      <th>trans</th>\n",
       "      <th>drv</th>\n",
       "      <th>cty</th>\n",
       "      <th>hwy</th>\n",
       "      <th>fl</th>\n",
       "      <th>class</th>\n",
       "      <th>avg_mil</th>\n",
       "    </tr>\n",
       "  </thead>\n",
       "  <tbody>\n",
       "    <tr>\n",
       "      <th>1</th>\n",
       "      <td>audi</td>\n",
       "      <td>a4</td>\n",
       "      <td>1.8</td>\n",
       "      <td>1999</td>\n",
       "      <td>4</td>\n",
       "      <td>auto(l5)</td>\n",
       "      <td>f</td>\n",
       "      <td>18</td>\n",
       "      <td>29</td>\n",
       "      <td>p</td>\n",
       "      <td>compact</td>\n",
       "      <td>23.5</td>\n",
       "    </tr>\n",
       "    <tr>\n",
       "      <th>2</th>\n",
       "      <td>audi</td>\n",
       "      <td>a4</td>\n",
       "      <td>1.8</td>\n",
       "      <td>1999</td>\n",
       "      <td>4</td>\n",
       "      <td>manual(m5)</td>\n",
       "      <td>f</td>\n",
       "      <td>21</td>\n",
       "      <td>29</td>\n",
       "      <td>p</td>\n",
       "      <td>compact</td>\n",
       "      <td>25.0</td>\n",
       "    </tr>\n",
       "    <tr>\n",
       "      <th>3</th>\n",
       "      <td>audi</td>\n",
       "      <td>a4</td>\n",
       "      <td>2.0</td>\n",
       "      <td>2008</td>\n",
       "      <td>4</td>\n",
       "      <td>manual(m6)</td>\n",
       "      <td>f</td>\n",
       "      <td>20</td>\n",
       "      <td>31</td>\n",
       "      <td>p</td>\n",
       "      <td>compact</td>\n",
       "      <td>25.5</td>\n",
       "    </tr>\n",
       "    <tr>\n",
       "      <th>4</th>\n",
       "      <td>audi</td>\n",
       "      <td>a4</td>\n",
       "      <td>2.0</td>\n",
       "      <td>2008</td>\n",
       "      <td>4</td>\n",
       "      <td>auto(av)</td>\n",
       "      <td>f</td>\n",
       "      <td>21</td>\n",
       "      <td>30</td>\n",
       "      <td>p</td>\n",
       "      <td>compact</td>\n",
       "      <td>25.5</td>\n",
       "    </tr>\n",
       "    <tr>\n",
       "      <th>5</th>\n",
       "      <td>audi</td>\n",
       "      <td>a4</td>\n",
       "      <td>2.8</td>\n",
       "      <td>1999</td>\n",
       "      <td>6</td>\n",
       "      <td>auto(l5)</td>\n",
       "      <td>f</td>\n",
       "      <td>16</td>\n",
       "      <td>26</td>\n",
       "      <td>p</td>\n",
       "      <td>compact</td>\n",
       "      <td>21.0</td>\n",
       "    </tr>\n",
       "  </tbody>\n",
       "</table>\n",
       "</div>"
      ],
      "text/plain": [
       "  manufacturer model  displ  year  cyl       trans drv  cty  hwy fl    class  \\\n",
       "1         audi    a4    1.8  1999    4    auto(l5)   f   18   29  p  compact   \n",
       "2         audi    a4    1.8  1999    4  manual(m5)   f   21   29  p  compact   \n",
       "3         audi    a4    2.0  2008    4  manual(m6)   f   20   31  p  compact   \n",
       "4         audi    a4    2.0  2008    4    auto(av)   f   21   30  p  compact   \n",
       "5         audi    a4    2.8  1999    6    auto(l5)   f   16   26  p  compact   \n",
       "\n",
       "   avg_mil  \n",
       "1     23.5  \n",
       "2     25.0  \n",
       "3     25.5  \n",
       "4     25.5  \n",
       "5     21.0  "
      ]
     },
     "execution_count": 74,
     "metadata": {},
     "output_type": "execute_result"
    }
   ],
   "source": [
    "mpg_df['avg_mil'] = (mpg_df.cty + mpg_df.hwy)/2\n",
    "mpg_df.head()\n"
   ]
  },
  {
   "cell_type": "code",
   "execution_count": 75,
   "id": "3616c2d7",
   "metadata": {},
   "outputs": [
    {
     "data": {
      "text/plain": [
       "(3      25.5\n",
       " 4      25.5\n",
       " 7      22.5\n",
       " 10     24.0\n",
       " 11     23.0\n",
       " 14     21.0\n",
       " 15     20.0\n",
       " 17     21.0\n",
       " 18     19.5\n",
       " 19     17.0\n",
       " 20     13.0\n",
       " 21     17.0\n",
       " 23     14.5\n",
       " 26     21.0\n",
       " 27     20.0\n",
       " 28     19.5\n",
       " 29     16.5\n",
       " 30     12.5\n",
       " 34     26.0\n",
       " 36     23.5\n",
       " 37     21.5\n",
       " 42     20.5\n",
       " 43     20.5\n",
       " 44     14.0\n",
       " 47     19.5\n",
       " 48     19.5\n",
       " 49     17.0\n",
       " 50     16.0\n",
       " 53     16.5\n",
       " 54     16.5\n",
       " 55     10.5\n",
       " 59     15.0\n",
       " 60     10.5\n",
       " 61     15.0\n",
       " 63     15.5\n",
       " 65     14.0\n",
       " 66     10.5\n",
       " 67     15.0\n",
       " 68     15.0\n",
       " 69     14.0\n",
       " 70     10.5\n",
       " 73     15.0\n",
       " 77     15.0\n",
       " 81     16.0\n",
       " 82     16.0\n",
       " 88     15.0\n",
       " 90     15.0\n",
       " 93     21.5\n",
       " 94     20.0\n",
       " 97     19.0\n",
       " 98     18.5\n",
       " 99     17.0\n",
       " 105    30.0\n",
       " 106    30.5\n",
       " 107    30.0\n",
       " 108    25.0\n",
       " 111    25.5\n",
       " 112    26.0\n",
       " 115    23.5\n",
       " 118    24.0\n",
       " 119    23.5\n",
       " 120    20.5\n",
       " 121    20.0\n",
       " 122    20.5\n",
       " 123    19.5\n",
       " 124    17.0\n",
       " 127    10.5\n",
       " 128    16.5\n",
       " 129    15.5\n",
       " 130    12.5\n",
       " 132    15.0\n",
       " 133    15.0\n",
       " 137    15.0\n",
       " 139    16.0\n",
       " 140    16.0\n",
       " 144    27.0\n",
       " 145    27.5\n",
       " 146    23.0\n",
       " 147    22.5\n",
       " 150    22.0\n",
       " 153    17.0\n",
       " 154    15.0\n",
       " 158    23.0\n",
       " 159    20.5\n",
       " 162    23.5\n",
       " 163    22.0\n",
       " 164    23.0\n",
       " 165    20.5\n",
       " 170    22.5\n",
       " 171    23.5\n",
       " 172    22.0\n",
       " 173    23.5\n",
       " 178    18.0\n",
       " 179    15.5\n",
       " 182    26.0\n",
       " 183    26.0\n",
       " 186    23.5\n",
       " 189    26.0\n",
       " 190    26.5\n",
       " 193    22.5\n",
       " 197    32.5\n",
       " 198    30.5\n",
       " 200    15.5\n",
       " 203    19.5\n",
       " 206    16.5\n",
       " 207    18.0\n",
       " 210    25.0\n",
       " 211    25.5\n",
       " 216    25.5\n",
       " 217    25.0\n",
       " 218    25.0\n",
       " 219    25.0\n",
       " 226    24.0\n",
       " 227    24.5\n",
       " 230    23.5\n",
       " 231    25.0\n",
       " 234    21.5\n",
       " Name: avg_mil, dtype: float64,\n",
       " 1      23.5\n",
       " 2      25.0\n",
       " 5      21.0\n",
       " 6      22.0\n",
       " 8      22.0\n",
       " 9      20.5\n",
       " 12     20.0\n",
       " 13     21.0\n",
       " 16     19.5\n",
       " 22     15.0\n",
       " 24     21.0\n",
       " 25     19.0\n",
       " 31     13.0\n",
       " 32     15.5\n",
       " 33     23.0\n",
       " 35     22.0\n",
       " 38     21.0\n",
       " 39     20.5\n",
       " 40     19.0\n",
       " 41     19.0\n",
       " 45     18.5\n",
       " 46     18.0\n",
       " 51     15.0\n",
       " 52     15.5\n",
       " 56     14.0\n",
       " 57     13.0\n",
       " 58     15.0\n",
       " 62     13.5\n",
       " 64     13.0\n",
       " 71     13.0\n",
       " 72     13.5\n",
       " 74     13.0\n",
       " 75     14.0\n",
       " 76     14.0\n",
       " 78     15.5\n",
       " 79     17.0\n",
       " 80     15.5\n",
       " 83     15.0\n",
       " 84     15.5\n",
       " 85     15.5\n",
       " 86     14.5\n",
       " 87     14.5\n",
       " 89     13.0\n",
       " 91     22.0\n",
       " 92     21.5\n",
       " 95     18.0\n",
       " 96     18.5\n",
       " 100    30.5\n",
       " 101    28.0\n",
       " 102    28.5\n",
       " 103    26.0\n",
       " 104    28.0\n",
       " 109    22.0\n",
       " 110    22.5\n",
       " 113    22.0\n",
       " 114    22.0\n",
       " 116    22.5\n",
       " 117    24.0\n",
       " 125    17.5\n",
       " 126    15.5\n",
       " 131    13.0\n",
       " 134    13.0\n",
       " 135    14.0\n",
       " 136    13.5\n",
       " 138    15.5\n",
       " 141    15.0\n",
       " 142    25.0\n",
       " 143    23.0\n",
       " 148    22.0\n",
       " 149    22.0\n",
       " 151    15.5\n",
       " 152    16.0\n",
       " 155    22.0\n",
       " 156    21.0\n",
       " 157    22.0\n",
       " 160    21.5\n",
       " 161    21.0\n",
       " 166    23.5\n",
       " 167    22.5\n",
       " 168    22.5\n",
       " 169    22.5\n",
       " 174    17.5\n",
       " 175    18.0\n",
       " 176    17.0\n",
       " 177    16.0\n",
       " 180    25.0\n",
       " 181    24.0\n",
       " 184    22.0\n",
       " 185    22.0\n",
       " 187    24.0\n",
       " 188    25.0\n",
       " 191    22.0\n",
       " 192    22.0\n",
       " 194    27.0\n",
       " 195    28.5\n",
       " 196    30.5\n",
       " 199    13.0\n",
       " 201    17.5\n",
       " 202    18.0\n",
       " 204    16.0\n",
       " 205    17.0\n",
       " 208    25.0\n",
       " 209    22.5\n",
       " 212    20.5\n",
       " 213    38.5\n",
       " 214    25.0\n",
       " 215    22.5\n",
       " 220    19.5\n",
       " 221    20.5\n",
       " 222    39.5\n",
       " 223    35.0\n",
       " 224    25.0\n",
       " 225    22.5\n",
       " 228    25.0\n",
       " 229    23.5\n",
       " 232    21.0\n",
       " 233    22.0\n",
       " Name: avg_mil, dtype: float64)"
      ]
     },
     "execution_count": 75,
     "metadata": {},
     "output_type": "execute_result"
    }
   ],
   "source": [
    "avg_2008 = mpg_df[mpg_df.year == 2008].avg_mil\n",
    "avg_1999 = mpg_df[mpg_df.year == 1999].avg_mil\n",
    "avg_2008, avg_1999"
   ]
  },
  {
   "cell_type": "code",
   "execution_count": 101,
   "id": "4c2284a2",
   "metadata": {
    "scrolled": true
   },
   "outputs": [
    {
     "data": {
      "text/plain": [
       "(0.21960177245940962, 0.8263744040323578)"
      ]
     },
     "execution_count": 101,
     "metadata": {},
     "output_type": "execute_result"
    }
   ],
   "source": [
    "t_stat, p = stats.ttest_ind(avg_1999,avg_2008,equal_var=True)\n",
    "t_stat, p"
   ]
  },
  {
   "cell_type": "code",
   "execution_count": 102,
   "id": "7382c3b1",
   "metadata": {},
   "outputs": [
    {
     "name": "stdout",
     "output_type": "stream",
     "text": [
      "fail to reject null\n",
      "Out come is there is not a difference in fuel efficiency of 2008 & 1999 vehicles\n"
     ]
    }
   ],
   "source": [
    "if p < α:\n",
    "    print('reject null')\n",
    "    \n",
    "else:\n",
    "    print('fail to reject null')\n",
    "    print('Out come is there is not a difference in fuel efficiency of 2008 & 1999 vehicles')"
   ]
  },
  {
   "cell_type": "markdown",
   "id": "56111981",
   "metadata": {},
   "source": [
    "Are compact cars more fuel-efficient than the average car?\n"
   ]
  },
  {
   "cell_type": "markdown",
   "id": "28c38713",
   "metadata": {},
   "source": [
    "$H_o$: compact cars are not more fuel effecient than the average car\n",
    "\n",
    "$H_a$: compact cars are more fuel efficent than the average car"
   ]
  },
  {
   "cell_type": "code",
   "execution_count": 103,
   "id": "e3a914b8",
   "metadata": {
    "scrolled": true
   },
   "outputs": [
    {
     "data": {
      "text/plain": [
       "class\n",
       "suv           62\n",
       "compact       47\n",
       "midsize       41\n",
       "subcompact    35\n",
       "pickup        33\n",
       "minivan       11\n",
       "2seater        5\n",
       "Name: count, dtype: int64"
      ]
     },
     "execution_count": 103,
     "metadata": {},
     "output_type": "execute_result"
    }
   ],
   "source": [
    "mpg_df['class'].value_counts()"
   ]
  },
  {
   "cell_type": "code",
   "execution_count": 104,
   "id": "f9a82934",
   "metadata": {},
   "outputs": [
    {
     "data": {
      "text/plain": [
       "20.14957264957265"
      ]
     },
     "execution_count": 104,
     "metadata": {},
     "output_type": "execute_result"
    }
   ],
   "source": [
    "mpg_df['avg_mil'].mean()"
   ]
  },
  {
   "cell_type": "code",
   "execution_count": 80,
   "id": "b5527608",
   "metadata": {},
   "outputs": [
    {
     "data": {
      "text/plain": [
       "1    23.5\n",
       "2    25.0\n",
       "3    25.5\n",
       "4    25.5\n",
       "5    21.0\n",
       "Name: avg_mil, dtype: float64"
      ]
     },
     "execution_count": 80,
     "metadata": {},
     "output_type": "execute_result"
    }
   ],
   "source": [
    "compact_avg = mpg_df[mpg_df['class'] == 'compact'].avg_mil\n",
    "\n",
    "compact_avg.head()"
   ]
  },
  {
   "cell_type": "code",
   "execution_count": null,
   "id": "c93403ac",
   "metadata": {},
   "outputs": [],
   "source": [
    "# stats.ttest_1samp?"
   ]
  },
  {
   "cell_type": "code",
   "execution_count": 85,
   "id": "d77ee08b",
   "metadata": {},
   "outputs": [
    {
     "data": {
      "text/plain": [
       "(7.896888573132533, 4.1985637943171486e-10)"
      ]
     },
     "execution_count": 85,
     "metadata": {},
     "output_type": "execute_result"
    }
   ],
   "source": [
    "t_stat, p = stats.ttest_1samp(compact_avg,mpg_df.avg_mil.mean())\n",
    "t_stat, p"
   ]
  },
  {
   "cell_type": "code",
   "execution_count": 99,
   "id": "67709177",
   "metadata": {},
   "outputs": [
    {
     "name": "stdout",
     "output_type": "stream",
     "text": [
      "reject null\n",
      "Outcome is that compact cars are more fuel effecient than the average car\n"
     ]
    }
   ],
   "source": [
    "if p < α:\n",
    "    print('reject null')\n",
    "    print('Outcome is that compact cars are more fuel effecient than the average car')\n",
    "else: \n",
    "    print('accept null')"
   ]
  },
  {
   "cell_type": "markdown",
   "id": "9504f88d",
   "metadata": {},
   "source": [
    "Do manual cars get better gas mileage than automatic cars?"
   ]
  },
  {
   "cell_type": "code",
   "execution_count": 87,
   "id": "7ff3ac45",
   "metadata": {},
   "outputs": [
    {
     "data": {
      "text/html": [
       "<div>\n",
       "<style scoped>\n",
       "    .dataframe tbody tr th:only-of-type {\n",
       "        vertical-align: middle;\n",
       "    }\n",
       "\n",
       "    .dataframe tbody tr th {\n",
       "        vertical-align: top;\n",
       "    }\n",
       "\n",
       "    .dataframe thead th {\n",
       "        text-align: right;\n",
       "    }\n",
       "</style>\n",
       "<table border=\"1\" class=\"dataframe\">\n",
       "  <thead>\n",
       "    <tr style=\"text-align: right;\">\n",
       "      <th></th>\n",
       "      <th>manufacturer</th>\n",
       "      <th>model</th>\n",
       "      <th>displ</th>\n",
       "      <th>year</th>\n",
       "      <th>cyl</th>\n",
       "      <th>trans</th>\n",
       "      <th>drv</th>\n",
       "      <th>cty</th>\n",
       "      <th>hwy</th>\n",
       "      <th>fl</th>\n",
       "      <th>class</th>\n",
       "      <th>avg_mil</th>\n",
       "      <th>trans_type</th>\n",
       "    </tr>\n",
       "  </thead>\n",
       "  <tbody>\n",
       "    <tr>\n",
       "      <th>1</th>\n",
       "      <td>audi</td>\n",
       "      <td>a4</td>\n",
       "      <td>1.8</td>\n",
       "      <td>1999</td>\n",
       "      <td>4</td>\n",
       "      <td>auto(l5)</td>\n",
       "      <td>f</td>\n",
       "      <td>18</td>\n",
       "      <td>29</td>\n",
       "      <td>p</td>\n",
       "      <td>compact</td>\n",
       "      <td>23.5</td>\n",
       "      <td>auto</td>\n",
       "    </tr>\n",
       "    <tr>\n",
       "      <th>2</th>\n",
       "      <td>audi</td>\n",
       "      <td>a4</td>\n",
       "      <td>1.8</td>\n",
       "      <td>1999</td>\n",
       "      <td>4</td>\n",
       "      <td>manual(m5)</td>\n",
       "      <td>f</td>\n",
       "      <td>21</td>\n",
       "      <td>29</td>\n",
       "      <td>p</td>\n",
       "      <td>compact</td>\n",
       "      <td>25.0</td>\n",
       "      <td>manual</td>\n",
       "    </tr>\n",
       "    <tr>\n",
       "      <th>3</th>\n",
       "      <td>audi</td>\n",
       "      <td>a4</td>\n",
       "      <td>2.0</td>\n",
       "      <td>2008</td>\n",
       "      <td>4</td>\n",
       "      <td>manual(m6)</td>\n",
       "      <td>f</td>\n",
       "      <td>20</td>\n",
       "      <td>31</td>\n",
       "      <td>p</td>\n",
       "      <td>compact</td>\n",
       "      <td>25.5</td>\n",
       "      <td>manual</td>\n",
       "    </tr>\n",
       "    <tr>\n",
       "      <th>4</th>\n",
       "      <td>audi</td>\n",
       "      <td>a4</td>\n",
       "      <td>2.0</td>\n",
       "      <td>2008</td>\n",
       "      <td>4</td>\n",
       "      <td>auto(av)</td>\n",
       "      <td>f</td>\n",
       "      <td>21</td>\n",
       "      <td>30</td>\n",
       "      <td>p</td>\n",
       "      <td>compact</td>\n",
       "      <td>25.5</td>\n",
       "      <td>auto</td>\n",
       "    </tr>\n",
       "    <tr>\n",
       "      <th>5</th>\n",
       "      <td>audi</td>\n",
       "      <td>a4</td>\n",
       "      <td>2.8</td>\n",
       "      <td>1999</td>\n",
       "      <td>6</td>\n",
       "      <td>auto(l5)</td>\n",
       "      <td>f</td>\n",
       "      <td>16</td>\n",
       "      <td>26</td>\n",
       "      <td>p</td>\n",
       "      <td>compact</td>\n",
       "      <td>21.0</td>\n",
       "      <td>auto</td>\n",
       "    </tr>\n",
       "  </tbody>\n",
       "</table>\n",
       "</div>"
      ],
      "text/plain": [
       "  manufacturer model  displ  year  cyl       trans drv  cty  hwy fl    class  \\\n",
       "1         audi    a4    1.8  1999    4    auto(l5)   f   18   29  p  compact   \n",
       "2         audi    a4    1.8  1999    4  manual(m5)   f   21   29  p  compact   \n",
       "3         audi    a4    2.0  2008    4  manual(m6)   f   20   31  p  compact   \n",
       "4         audi    a4    2.0  2008    4    auto(av)   f   21   30  p  compact   \n",
       "5         audi    a4    2.8  1999    6    auto(l5)   f   16   26  p  compact   \n",
       "\n",
       "   avg_mil trans_type  \n",
       "1     23.5       auto  \n",
       "2     25.0     manual  \n",
       "3     25.5     manual  \n",
       "4     25.5       auto  \n",
       "5     21.0       auto  "
      ]
     },
     "execution_count": 87,
     "metadata": {},
     "output_type": "execute_result"
    }
   ],
   "source": [
    "mpg_df['trans_type'] = np.where(mpg_df.trans.str.startswith('a'),'auto','manual')\n",
    "mpg_df.head()"
   ]
  },
  {
   "cell_type": "markdown",
   "id": "90af5274",
   "metadata": {},
   "source": [
    "$H_o$: Manual cars get the same or worse mileage than automatic cars\n",
    "\n",
    "$H_a$: Manual cars get better mileage than automatic cars"
   ]
  },
  {
   "cell_type": "code",
   "execution_count": 90,
   "id": "7cd84c3b",
   "metadata": {},
   "outputs": [
    {
     "data": {
      "text/plain": [
       "True"
      ]
     },
     "execution_count": 90,
     "metadata": {},
     "output_type": "execute_result"
    }
   ],
   "source": [
    "# Make a basic test of the hypothesis\n",
    "manual.mean() > auto.mean()"
   ]
  },
  {
   "cell_type": "code",
   "execution_count": 94,
   "id": "a1b46248",
   "metadata": {},
   "outputs": [
    {
     "data": {
      "text/plain": [
       "(4.593437735750014, 3.5771872005728424e-06)"
      ]
     },
     "execution_count": 94,
     "metadata": {},
     "output_type": "execute_result"
    }
   ],
   "source": [
    "# Test the hypothesis\n",
    "t_stat, p= stats.ttest_ind(manual,auto,alternative='greater')\n",
    "t_stat, p"
   ]
  },
  {
   "cell_type": "code",
   "execution_count": 97,
   "id": "0767a9d4",
   "metadata": {},
   "outputs": [
    {
     "name": "stdout",
     "output_type": "stream",
     "text": [
      "reject null\n",
      "manual cars get better mileage than automatic cars\n"
     ]
    }
   ],
   "source": [
    "if p < α:\n",
    "    print('reject null')\n",
    "    print('manual cars get better mileage than automatic cars')\n",
    "else:\n",
    "    print('accept null')"
   ]
  },
  {
   "cell_type": "code",
   "execution_count": null,
   "id": "9babc521",
   "metadata": {},
   "outputs": [],
   "source": []
  }
 ],
 "metadata": {
  "kernelspec": {
   "display_name": "Python 3 (ipykernel)",
   "language": "python",
   "name": "python3"
  },
  "language_info": {
   "codemirror_mode": {
    "name": "ipython",
    "version": 3
   },
   "file_extension": ".py",
   "mimetype": "text/x-python",
   "name": "python",
   "nbconvert_exporter": "python",
   "pygments_lexer": "ipython3",
   "version": "3.11.5"
  }
 },
 "nbformat": 4,
 "nbformat_minor": 5
}
